{
 "cells": [
  {
   "cell_type": "markdown",
   "metadata": {
    "colab_type": "text",
    "id": "view-in-github"
   },
   "source": [
    "<a href=\"https://colab.research.google.com/github/ATOMScience-org/AMPL/blob/master/atomsci/ddm/examples/tutorials/10_Delaney_Solubility_Prediction.ipynb\" target=\"_parent\"><img src=\"https://colab.research.google.com/assets/colab-badge.svg\" alt=\"Open In Colab\"/></a>"
   ]
  },
  {
   "cell_type": "markdown",
   "metadata": {
    "id": "VQYLwMnVDT8l"
   },
   "source": [
    "<h1>Predicting Solubility Using AMPL</h1>\n",
    "\n",
    "The ATOM Modeling PipeLine (AMPL; https://github.com/ATOMScience-org/AMPL) is an open-source, modular, extensible software pipeline for building and sharing models to advance in silico drug discovery.\n"
   ]
  },
  {
   "cell_type": "markdown",
   "metadata": {
    "id": "d9wRTs8cHKis"
   },
   "source": [
    "## Notebook execution time: ~ 3 minutes"
   ]
  },
  {
   "cell_type": "code",
   "execution_count": 1,
   "metadata": {
    "colab": {
     "base_uri": "https://localhost:8080/"
    },
    "id": "YxRoIMr5D0PQ",
    "outputId": "61b9e08f-1faa-49b8-db92-698701fca949"
   },
   "outputs": [
    {
     "name": "stdout",
     "output_type": "stream",
     "text": [
      "Sun 20 Mar 2022 12:01:05 PM PDT\r\n"
     ]
    }
   ],
   "source": [
    "!date"
   ]
  },
  {
   "cell_type": "markdown",
   "metadata": {
    "id": "WlGjgLeOVk2w"
   },
   "source": [
    "# Goal: Predict solubility using the ATOM Modeling Pipeline (AMPL) on the public dataset\n",
    "\n",
    "In this notebook, we describe the following steps using AMPL:\n",
    "\n",
    "1.   Read a public dataset containing chemical structures and some properties\n",
    "1.   Curate the dataset \n",
    "2.   Fit a simple model\n",
    "3.   Predict solubility for withheld compounds\n",
    "\n",
    "\n",
    "## Set up\n",
    "We first import the AMPL modules for use in this notebook.\n",
    "\n",
    "The relevant AMPL modules for this example are listed below:\n",
    "\n",
    "|module|Description|\n",
    "|-|-|\n",
    "|`atomsci.ddm.pipeline.model_pipeline`|The model pipeline module is used to fit models and load models for prediction.|\n",
    "|`atomsci.ddm.pipeline.parameter_parser`|The parameter parser reads through pipeline options for the model pipeline.|\n",
    "|`atomsci.ddm.utils.curate_data`|The curate data module is used for data loading and pre-processing.|\n",
    "|`atomsci.ddm.utils.struct_utils`|The structure utilities module is used to process loaded structures.|\n",
    "|`atomsci.ddm.pipeline.perf_plots`|Perf plots contains a variety of plotting functions.|"
   ]
  },
  {
   "cell_type": "markdown",
   "metadata": {
    "id": "Q4ZFqjQVMVXL"
   },
   "source": [
    "## Install AMPL"
   ]
  },
  {
   "cell_type": "code",
   "execution_count": 2,
   "metadata": {
    "id": "RgPw1t5PO-QC"
   },
   "outputs": [
    {
     "name": "stdout",
     "output_type": "stream",
     "text": [
      "Requirement already satisfied: rdkit-pypi in /home/shoumo/anaconda3/envs/atomsci/lib/python3.7/site-packages (2021.9.5.1)\n",
      "Requirement already satisfied: Pillow in /home/shoumo/anaconda3/envs/atomsci/lib/python3.7/site-packages (from rdkit-pypi) (8.2.0)\n",
      "Requirement already satisfied: numpy>=1.19 in /home/shoumo/anaconda3/envs/atomsci/lib/python3.7/site-packages (from rdkit-pypi) (1.21.5)\n",
      "Requirement already satisfied: deepchem in /home/shoumo/anaconda3/envs/atomsci/lib/python3.7/site-packages (2.5.0.dev20210319222130)\n",
      "Requirement already satisfied: pandas in /home/shoumo/anaconda3/envs/atomsci/lib/python3.7/site-packages (from deepchem) (1.3.5)\n",
      "Requirement already satisfied: scipy in /home/shoumo/anaconda3/envs/atomsci/lib/python3.7/site-packages (from deepchem) (1.7.3)\n",
      "Requirement already satisfied: numpy in /home/shoumo/anaconda3/envs/atomsci/lib/python3.7/site-packages (from deepchem) (1.21.5)\n",
      "Requirement already satisfied: joblib in /home/shoumo/anaconda3/envs/atomsci/lib/python3.7/site-packages (from deepchem) (1.1.0)\n",
      "Requirement already satisfied: scikit-learn in /home/shoumo/anaconda3/envs/atomsci/lib/python3.7/site-packages (from deepchem) (1.0.2)\n",
      "Requirement already satisfied: python-dateutil>=2.7.3 in /home/shoumo/anaconda3/envs/atomsci/lib/python3.7/site-packages (from pandas->deepchem) (2.8.2)\n",
      "Requirement already satisfied: pytz>=2017.3 in /home/shoumo/anaconda3/envs/atomsci/lib/python3.7/site-packages (from pandas->deepchem) (2021.3)\n",
      "Requirement already satisfied: six>=1.5 in /home/shoumo/anaconda3/envs/atomsci/lib/python3.7/site-packages (from python-dateutil>=2.7.3->pandas->deepchem) (1.16.0)\n",
      "Requirement already satisfied: threadpoolctl>=2.0.0 in /home/shoumo/anaconda3/envs/atomsci/lib/python3.7/site-packages (from scikit-learn->deepchem) (3.1.0)\n"
     ]
    },
    {
     "name": "stderr",
     "output_type": "stream",
     "text": [
      "/home/shoumo/anaconda3/envs/atomsci/lib/python3.7/site-packages/tqdm/auto.py:22: TqdmWarning: IProgress not found. Please update jupyter and ipywidgets. See https://ipywidgets.readthedocs.io/en/stable/user_install.html\n",
      "  from .autonotebook import tqdm as notebook_tqdm\n"
     ]
    },
    {
     "name": "stdout",
     "output_type": "stream",
     "text": [
      "Requirement already satisfied: umap in /home/shoumo/anaconda3/envs/atomsci/lib/python3.7/site-packages (0.1.1)\n",
      "Collecting llvmlite==0.35.0\n",
      "  Using cached llvmlite-0.35.0-cp37-cp37m-manylinux2010_x86_64.whl (25.3 MB)\n",
      "Installing collected packages: llvmlite\n",
      "\u001b[31mERROR: pip's dependency resolver does not currently take into account all the packages that are installed. This behaviour is the source of the following dependency conflicts.\n",
      "numba 0.55.1 requires llvmlite<0.39,>=0.38.0rc1, but you have llvmlite 0.35.0 which is incompatible.\u001b[0m\n",
      "Successfully installed llvmlite-0.38.0\n",
      "Requirement already satisfied: umap-learn in /home/shoumo/anaconda3/envs/atomsci/lib/python3.7/site-packages (0.4.6)\n",
      "Requirement already satisfied: scikit-learn>=0.20 in /home/shoumo/anaconda3/envs/atomsci/lib/python3.7/site-packages (from umap-learn) (1.0.2)\n",
      "Requirement already satisfied: numpy>=1.17 in /home/shoumo/anaconda3/envs/atomsci/lib/python3.7/site-packages (from umap-learn) (1.21.5)\n",
      "Requirement already satisfied: scipy>=1.3.1 in /home/shoumo/anaconda3/envs/atomsci/lib/python3.7/site-packages (from umap-learn) (1.7.3)\n",
      "Requirement already satisfied: numba!=0.47,>=0.46 in /home/shoumo/anaconda3/envs/atomsci/lib/python3.7/site-packages (from umap-learn) (0.55.1)\n",
      "Requirement already satisfied: setuptools in /home/shoumo/anaconda3/envs/atomsci/lib/python3.7/site-packages (from numba!=0.47,>=0.46->umap-learn) (60.9.3)\n",
      "Requirement already satisfied: llvmlite<0.39,>=0.38.0rc1 in /home/shoumo/anaconda3/envs/atomsci/lib/python3.7/site-packages (from numba!=0.47,>=0.46->umap-learn) (0.38.0)\n",
      "Requirement already satisfied: joblib>=0.11 in /home/shoumo/anaconda3/envs/atomsci/lib/python3.7/site-packages (from scikit-learn>=0.20->umap-learn) (1.1.0)\n",
      "Requirement already satisfied: threadpoolctl>=2.0.0 in /home/shoumo/anaconda3/envs/atomsci/lib/python3.7/site-packages (from scikit-learn>=0.20->umap-learn) (3.1.0)\n",
      "Requirement already satisfied: molvs in /home/shoumo/anaconda3/envs/atomsci/lib/python3.7/site-packages (0.1.1)\n",
      "Requirement already satisfied: six in /home/shoumo/anaconda3/envs/atomsci/lib/python3.7/site-packages (from molvs) (1.16.0)\n",
      "Requirement already satisfied: bravado in /home/shoumo/anaconda3/envs/atomsci/lib/python3.7/site-packages (11.0.2)\n",
      "Requirement already satisfied: pyyaml in /home/shoumo/anaconda3/envs/atomsci/lib/python3.7/site-packages (from bravado) (5.3.1)\n",
      "Requirement already satisfied: simplejson in /home/shoumo/anaconda3/envs/atomsci/lib/python3.7/site-packages (from bravado) (3.17.2)\n",
      "Requirement already satisfied: bravado-core>=5.16.1 in /home/shoumo/anaconda3/envs/atomsci/lib/python3.7/site-packages (from bravado) (5.17.0)\n",
      "Requirement already satisfied: six in /home/shoumo/anaconda3/envs/atomsci/lib/python3.7/site-packages (from bravado) (1.16.0)\n",
      "Requirement already satisfied: typing-extensions in /home/shoumo/anaconda3/envs/atomsci/lib/python3.7/site-packages (from bravado) (3.7.4.3)\n",
      "Requirement already satisfied: python-dateutil in /home/shoumo/anaconda3/envs/atomsci/lib/python3.7/site-packages (from bravado) (2.8.2)\n",
      "Requirement already satisfied: monotonic in /home/shoumo/anaconda3/envs/atomsci/lib/python3.7/site-packages (from bravado) (1.5)\n",
      "Requirement already satisfied: msgpack in /home/shoumo/anaconda3/envs/atomsci/lib/python3.7/site-packages (from bravado) (1.0.2)\n",
      "Requirement already satisfied: requests>=2.17 in /home/shoumo/anaconda3/envs/atomsci/lib/python3.7/site-packages (from bravado) (2.27.1)\n",
      "Requirement already satisfied: pytz in /home/shoumo/anaconda3/envs/atomsci/lib/python3.7/site-packages (from bravado-core>=5.16.1->bravado) (2021.3)\n",
      "Requirement already satisfied: jsonref in /home/shoumo/anaconda3/envs/atomsci/lib/python3.7/site-packages (from bravado-core>=5.16.1->bravado) (0.2)\n",
      "Requirement already satisfied: jsonschema[format]>=2.5.1 in /home/shoumo/anaconda3/envs/atomsci/lib/python3.7/site-packages (from bravado-core>=5.16.1->bravado) (3.2.0)\n",
      "Requirement already satisfied: swagger-spec-validator>=2.0.1 in /home/shoumo/anaconda3/envs/atomsci/lib/python3.7/site-packages (from bravado-core>=5.16.1->bravado) (2.7.3)\n",
      "Requirement already satisfied: importlib-metadata in /home/shoumo/anaconda3/envs/atomsci/lib/python3.7/site-packages (from jsonschema[format]>=2.5.1->bravado-core>=5.16.1->bravado) (4.4.0)\n",
      "Requirement already satisfied: attrs>=17.4.0 in /home/shoumo/anaconda3/envs/atomsci/lib/python3.7/site-packages (from jsonschema[format]>=2.5.1->bravado-core>=5.16.1->bravado) (20.3.0)\n",
      "Requirement already satisfied: pyrsistent>=0.14.0 in /home/shoumo/anaconda3/envs/atomsci/lib/python3.7/site-packages (from jsonschema[format]>=2.5.1->bravado-core>=5.16.1->bravado) (0.17.3)\n",
      "Requirement already satisfied: setuptools in /home/shoumo/anaconda3/envs/atomsci/lib/python3.7/site-packages (from jsonschema[format]>=2.5.1->bravado-core>=5.16.1->bravado) (60.9.3)\n",
      "Requirement already satisfied: idna in /home/shoumo/anaconda3/envs/atomsci/lib/python3.7/site-packages (from jsonschema[format]>=2.5.1->bravado-core>=5.16.1->bravado) (3.3)\n",
      "Requirement already satisfied: strict-rfc3339 in /home/shoumo/anaconda3/envs/atomsci/lib/python3.7/site-packages (from jsonschema[format]>=2.5.1->bravado-core>=5.16.1->bravado) (0.7)\n",
      "Requirement already satisfied: rfc3987 in /home/shoumo/anaconda3/envs/atomsci/lib/python3.7/site-packages (from jsonschema[format]>=2.5.1->bravado-core>=5.16.1->bravado) (1.3.8)\n",
      "Requirement already satisfied: jsonpointer>1.13 in /home/shoumo/anaconda3/envs/atomsci/lib/python3.7/site-packages (from jsonschema[format]>=2.5.1->bravado-core>=5.16.1->bravado) (2.0)\n",
      "Requirement already satisfied: webcolors in /home/shoumo/anaconda3/envs/atomsci/lib/python3.7/site-packages (from jsonschema[format]>=2.5.1->bravado-core>=5.16.1->bravado) (1.11.1)\n",
      "Requirement already satisfied: charset-normalizer~=2.0.0 in /home/shoumo/anaconda3/envs/atomsci/lib/python3.7/site-packages (from requests>=2.17->bravado) (2.0.4)\n",
      "Requirement already satisfied: urllib3<1.27,>=1.21.1 in /home/shoumo/anaconda3/envs/atomsci/lib/python3.7/site-packages (from requests>=2.17->bravado) (1.26.7)\n",
      "Requirement already satisfied: certifi>=2017.4.17 in /home/shoumo/anaconda3/envs/atomsci/lib/python3.7/site-packages (from requests>=2.17->bravado) (2021.10.8)\n",
      "Requirement already satisfied: zipp>=0.5 in /home/shoumo/anaconda3/envs/atomsci/lib/python3.7/site-packages (from importlib-metadata->jsonschema[format]>=2.5.1->bravado-core>=5.16.1->bravado) (3.4.1)\n"
     ]
    }
   ],
   "source": [
    "! pip install rdkit-pypi\n",
    "! pip install --pre deepchem\n",
    "\n",
    "import deepchem\n",
    "# print(deepchem.__version__)\n",
    "! pip install umap\n",
    "! pip install llvmlite==0.35.0  --ignore-installed\n",
    "#! pip install llvmlite==0.38.0\n",
    "\n",
    "! pip install umap-learn\n",
    "! pip install molvs\n",
    "! pip install bravado"
   ]
  },
  {
   "cell_type": "code",
   "execution_count": 3,
   "metadata": {
    "id": "scDiD9K_KKkB"
   },
   "outputs": [
    {
     "name": "stdout",
     "output_type": "stream",
     "text": [
      "mkdir: cannot create directory ‘github’: File exists\n",
      "fatal: destination path 'AMPL' already exists and is not an empty directory.\n",
      "M\tatomsci/ddm/pipeline/model_wrapper.py\n",
      "Already on 'master'\n",
      "Your branch is up to date with 'origin/master'.\n",
      "running build\n",
      "running build_py\n",
      "running egg_info\n",
      "writing /home/shoumo/atom/AMPL-master/atomsci/ddm/examples/tutorials/github/AMPL.build/ampl/atomsci_ampl.egg-info/PKG-INFO\n",
      "writing dependency_links to /home/shoumo/atom/AMPL-master/atomsci/ddm/examples/tutorials/github/AMPL.build/ampl/atomsci_ampl.egg-info/dependency_links.txt\n",
      "writing namespace_packages to /home/shoumo/atom/AMPL-master/atomsci/ddm/examples/tutorials/github/AMPL.build/ampl/atomsci_ampl.egg-info/namespace_packages.txt\n",
      "writing top-level names to /home/shoumo/atom/AMPL-master/atomsci/ddm/examples/tutorials/github/AMPL.build/ampl/atomsci_ampl.egg-info/top_level.txt\n",
      "reading manifest file '/home/shoumo/atom/AMPL-master/atomsci/ddm/examples/tutorials/github/AMPL.build/ampl/atomsci_ampl.egg-info/SOURCES.txt'\n",
      "reading manifest template 'MANIFEST.in'\n",
      "warning: no files found matching 'atomsci/*/*.yaml'\n",
      "adding license file 'LICENSE'\n",
      "adding license file 'NOTICE'\n",
      "writing manifest file '/home/shoumo/atom/AMPL-master/atomsci/ddm/examples/tutorials/github/AMPL.build/ampl/atomsci_ampl.egg-info/SOURCES.txt'\n",
      "running bdist_wheel\n",
      "/home/shoumo/anaconda3/envs/atomsci/lib/python3.7/site-packages/setuptools/command/install.py:37: SetuptoolsDeprecationWarning: setup.py install is deprecated. Use build and pip and other standards-based tools.\n",
      "  setuptools.SetuptoolsDeprecationWarning,\n",
      "installing to /home/shoumo/atom/AMPL-master/atomsci/ddm/examples/tutorials/github/AMPL.build/ampl/bdist.linux-x86_64/wheel\n",
      "running install\n",
      "running install_lib\n",
      "Skipping installation of /home/shoumo/atom/AMPL-master/atomsci/ddm/examples/tutorials/github/AMPL.build/ampl/bdist.linux-x86_64/wheel/atomsci/__init__.py (namespace package)\n",
      "copying atomsci/ddm/__init__.py -> /home/shoumo/atom/AMPL-master/atomsci/ddm/examples/tutorials/github/AMPL.build/ampl/bdist.linux-x86_64/wheel/atomsci/ddm\n",
      "copying atomsci/ddm/data/descriptor_sets_sources_by_descr_type.csv -> /home/shoumo/atom/AMPL-master/atomsci/ddm/examples/tutorials/github/AMPL.build/ampl/bdist.linux-x86_64/wheel/atomsci/ddm/data\n",
      "copying atomsci/ddm/utils/process_slurm.py -> /home/shoumo/atom/AMPL-master/atomsci/ddm/examples/tutorials/github/AMPL.build/ampl/bdist.linux-x86_64/wheel/atomsci/ddm/utils\n",
      "copying atomsci/ddm/utils/llnl_utils.py -> /home/shoumo/atom/AMPL-master/atomsci/ddm/examples/tutorials/github/AMPL.build/ampl/bdist.linux-x86_64/wheel/atomsci/ddm/utils\n",
      "copying atomsci/ddm/utils/hyperparam_search_wrapper.py -> /home/shoumo/atom/AMPL-master/atomsci/ddm/examples/tutorials/github/AMPL.build/ampl/bdist.linux-x86_64/wheel/atomsci/ddm/utils\n",
      "copying atomsci/ddm/utils/data_curation_functions.py -> /home/shoumo/atom/AMPL-master/atomsci/ddm/examples/tutorials/github/AMPL.build/ampl/bdist.linux-x86_64/wheel/atomsci/ddm/utils\n",
      "copying atomsci/ddm/utils/curate_data.py -> /home/shoumo/atom/AMPL-master/atomsci/ddm/examples/tutorials/github/AMPL.build/ampl/bdist.linux-x86_64/wheel/atomsci/ddm/utils\n",
      "copying atomsci/ddm/utils/open-docs.py -> /home/shoumo/atom/AMPL-master/atomsci/ddm/examples/tutorials/github/AMPL.build/ampl/bdist.linux-x86_64/wheel/atomsci/ddm/utils\n",
      "copying atomsci/ddm/utils/rdkit_easy.py -> /home/shoumo/atom/AMPL-master/atomsci/ddm/examples/tutorials/github/AMPL.build/ampl/bdist.linux-x86_64/wheel/atomsci/ddm/utils\n",
      "copying atomsci/ddm/utils/pubchem_utils.py -> /home/shoumo/atom/AMPL-master/atomsci/ddm/examples/tutorials/github/AMPL.build/ampl/bdist.linux-x86_64/wheel/atomsci/ddm/utils\n",
      "copying atomsci/ddm/utils/compare_splits_plots.py -> /home/shoumo/atom/AMPL-master/atomsci/ddm/examples/tutorials/github/AMPL.build/ampl/bdist.linux-x86_64/wheel/atomsci/ddm/utils\n",
      "copying atomsci/ddm/utils/struct_utils.py -> /home/shoumo/atom/AMPL-master/atomsci/ddm/examples/tutorials/github/AMPL.build/ampl/bdist.linux-x86_64/wheel/atomsci/ddm/utils\n",
      "copying atomsci/ddm/utils/datastore_functions.py -> /home/shoumo/atom/AMPL-master/atomsci/ddm/examples/tutorials/github/AMPL.build/ampl/bdist.linux-x86_64/wheel/atomsci/ddm/utils\n",
      "copying atomsci/ddm/utils/checksum_utils.py -> /home/shoumo/atom/AMPL-master/atomsci/ddm/examples/tutorials/github/AMPL.build/ampl/bdist.linux-x86_64/wheel/atomsci/ddm/utils\n",
      "copying atomsci/ddm/utils/model_retrain.py -> /home/shoumo/atom/AMPL-master/atomsci/ddm/examples/tutorials/github/AMPL.build/ampl/bdist.linux-x86_64/wheel/atomsci/ddm/utils\n",
      "copying atomsci/ddm/utils/__init__.py -> /home/shoumo/atom/AMPL-master/atomsci/ddm/examples/tutorials/github/AMPL.build/ampl/bdist.linux-x86_64/wheel/atomsci/ddm/utils\n",
      "copying atomsci/ddm/utils/genTestset.py -> /home/shoumo/atom/AMPL-master/atomsci/ddm/examples/tutorials/github/AMPL.build/ampl/bdist.linux-x86_64/wheel/atomsci/ddm/utils\n",
      "copying atomsci/ddm/pipeline/featurization.py -> /home/shoumo/atom/AMPL-master/atomsci/ddm/examples/tutorials/github/AMPL.build/ampl/bdist.linux-x86_64/wheel/atomsci/ddm/pipeline\n",
      "copying atomsci/ddm/pipeline/perf_plots.py -> /home/shoumo/atom/AMPL-master/atomsci/ddm/examples/tutorials/github/AMPL.build/ampl/bdist.linux-x86_64/wheel/atomsci/ddm/pipeline\n",
      "copying atomsci/ddm/pipeline/dist_metrics.py -> /home/shoumo/atom/AMPL-master/atomsci/ddm/examples/tutorials/github/AMPL.build/ampl/bdist.linux-x86_64/wheel/atomsci/ddm/pipeline\n",
      "copying atomsci/ddm/pipeline/compare_models.py -> /home/shoumo/atom/AMPL-master/atomsci/ddm/examples/tutorials/github/AMPL.build/ampl/bdist.linux-x86_64/wheel/atomsci/ddm/pipeline\n",
      "copying atomsci/ddm/pipeline/ave_splitter.py -> /home/shoumo/atom/AMPL-master/atomsci/ddm/examples/tutorials/github/AMPL.build/ampl/bdist.linux-x86_64/wheel/atomsci/ddm/pipeline\n",
      "copying atomsci/ddm/pipeline/predict_from_model.py -> /home/shoumo/atom/AMPL-master/atomsci/ddm/examples/tutorials/github/AMPL.build/ampl/bdist.linux-x86_64/wheel/atomsci/ddm/pipeline\n",
      "copying atomsci/ddm/pipeline/temporal_splitter.py -> /home/shoumo/atom/AMPL-master/atomsci/ddm/examples/tutorials/github/AMPL.build/ampl/bdist.linux-x86_64/wheel/atomsci/ddm/pipeline\n",
      "copying atomsci/ddm/pipeline/model_wrapper.py -> /home/shoumo/atom/AMPL-master/atomsci/ddm/examples/tutorials/github/AMPL.build/ampl/bdist.linux-x86_64/wheel/atomsci/ddm/pipeline\n",
      "copying atomsci/ddm/pipeline/parameter_parser.py -> /home/shoumo/atom/AMPL-master/atomsci/ddm/examples/tutorials/github/AMPL.build/ampl/bdist.linux-x86_64/wheel/atomsci/ddm/pipeline\n",
      "copying atomsci/ddm/pipeline/perf_data.py -> /home/shoumo/atom/AMPL-master/atomsci/ddm/examples/tutorials/github/AMPL.build/ampl/bdist.linux-x86_64/wheel/atomsci/ddm/pipeline\n",
      "copying atomsci/ddm/pipeline/model_tracker.py -> /home/shoumo/atom/AMPL-master/atomsci/ddm/examples/tutorials/github/AMPL.build/ampl/bdist.linux-x86_64/wheel/atomsci/ddm/pipeline\n",
      "copying atomsci/ddm/pipeline/MultitaskScaffoldSplit.py -> /home/shoumo/atom/AMPL-master/atomsci/ddm/examples/tutorials/github/AMPL.build/ampl/bdist.linux-x86_64/wheel/atomsci/ddm/pipeline\n",
      "copying atomsci/ddm/pipeline/transformations.py -> /home/shoumo/atom/AMPL-master/atomsci/ddm/examples/tutorials/github/AMPL.build/ampl/bdist.linux-x86_64/wheel/atomsci/ddm/pipeline\n",
      "copying atomsci/ddm/pipeline/diversity_plots.py -> /home/shoumo/atom/AMPL-master/atomsci/ddm/examples/tutorials/github/AMPL.build/ampl/bdist.linux-x86_64/wheel/atomsci/ddm/pipeline\n",
      "copying atomsci/ddm/pipeline/chem_diversity.py -> /home/shoumo/atom/AMPL-master/atomsci/ddm/examples/tutorials/github/AMPL.build/ampl/bdist.linux-x86_64/wheel/atomsci/ddm/pipeline\n",
      "copying atomsci/ddm/pipeline/GeneticAlgorithm.py -> /home/shoumo/atom/AMPL-master/atomsci/ddm/examples/tutorials/github/AMPL.build/ampl/bdist.linux-x86_64/wheel/atomsci/ddm/pipeline\n",
      "copying atomsci/ddm/pipeline/splitting.py -> /home/shoumo/atom/AMPL-master/atomsci/ddm/examples/tutorials/github/AMPL.build/ampl/bdist.linux-x86_64/wheel/atomsci/ddm/pipeline\n",
      "copying atomsci/ddm/pipeline/model_datasets.py -> /home/shoumo/atom/AMPL-master/atomsci/ddm/examples/tutorials/github/AMPL.build/ampl/bdist.linux-x86_64/wheel/atomsci/ddm/pipeline\n",
      "copying atomsci/ddm/pipeline/feature_importance.py -> /home/shoumo/atom/AMPL-master/atomsci/ddm/examples/tutorials/github/AMPL.build/ampl/bdist.linux-x86_64/wheel/atomsci/ddm/pipeline\n",
      "copying atomsci/ddm/pipeline/model_pipeline.py -> /home/shoumo/atom/AMPL-master/atomsci/ddm/examples/tutorials/github/AMPL.build/ampl/bdist.linux-x86_64/wheel/atomsci/ddm/pipeline\n",
      "copying atomsci/ddm/pipeline/__init__.py -> /home/shoumo/atom/AMPL-master/atomsci/ddm/examples/tutorials/github/AMPL.build/ampl/bdist.linux-x86_64/wheel/atomsci/ddm/pipeline\n",
      "running install_egg_info\n",
      "Copying /home/shoumo/atom/AMPL-master/atomsci/ddm/examples/tutorials/github/AMPL.build/ampl/atomsci_ampl.egg-info to /home/shoumo/atom/AMPL-master/atomsci/ddm/examples/tutorials/github/AMPL.build/ampl/bdist.linux-x86_64/wheel/atomsci_ampl-1.3.0-py3.7.egg-info\n",
      "Installing /home/shoumo/atom/AMPL-master/atomsci/ddm/examples/tutorials/github/AMPL.build/ampl/bdist.linux-x86_64/wheel/atomsci_ampl-1.3.0-py3.7-nspkg.pth\n",
      "running install_scripts\n"
     ]
    },
    {
     "name": "stdout",
     "output_type": "stream",
     "text": [
      "adding license file \"LICENSE\" (matched pattern \"LICEN[CS]E*\")\n",
      "adding license file \"NOTICE\" (matched pattern \"NOTICE*\")\n",
      "creating /home/shoumo/atom/AMPL-master/atomsci/ddm/examples/tutorials/github/AMPL.build/ampl/bdist.linux-x86_64/wheel/atomsci_ampl-1.3.0.dist-info/WHEEL\n",
      "creating '/home/shoumo/atom/AMPL-master/atomsci/ddm/examples/tutorials/github/AMPL.dist/atomsci_ampl-1.3.0-py3-none-any.whl' and adding '/home/shoumo/atom/AMPL-master/atomsci/ddm/examples/tutorials/github/AMPL.build/ampl/bdist.linux-x86_64/wheel' to it\n",
      "adding 'atomsci_ampl-1.3.0-py3.7-nspkg.pth'\n",
      "adding 'atomsci/ddm/__init__.py'\n",
      "adding 'atomsci/ddm/data/descriptor_sets_sources_by_descr_type.csv'\n",
      "adding 'atomsci/ddm/pipeline/GeneticAlgorithm.py'\n",
      "adding 'atomsci/ddm/pipeline/MultitaskScaffoldSplit.py'\n",
      "adding 'atomsci/ddm/pipeline/__init__.py'\n",
      "adding 'atomsci/ddm/pipeline/ave_splitter.py'\n",
      "adding 'atomsci/ddm/pipeline/chem_diversity.py'\n",
      "adding 'atomsci/ddm/pipeline/compare_models.py'\n",
      "adding 'atomsci/ddm/pipeline/dist_metrics.py'\n",
      "adding 'atomsci/ddm/pipeline/diversity_plots.py'\n",
      "adding 'atomsci/ddm/pipeline/feature_importance.py'\n",
      "adding 'atomsci/ddm/pipeline/featurization.py'\n",
      "adding 'atomsci/ddm/pipeline/model_datasets.py'\n",
      "adding 'atomsci/ddm/pipeline/model_pipeline.py'\n",
      "adding 'atomsci/ddm/pipeline/model_tracker.py'\n",
      "adding 'atomsci/ddm/pipeline/model_wrapper.py'\n",
      "adding 'atomsci/ddm/pipeline/parameter_parser.py'\n",
      "adding 'atomsci/ddm/pipeline/perf_data.py'\n",
      "adding 'atomsci/ddm/pipeline/perf_plots.py'\n",
      "adding 'atomsci/ddm/pipeline/predict_from_model.py'\n",
      "adding 'atomsci/ddm/pipeline/splitting.py'\n",
      "adding 'atomsci/ddm/pipeline/temporal_splitter.py'\n",
      "adding 'atomsci/ddm/pipeline/transformations.py'\n",
      "adding 'atomsci/ddm/utils/__init__.py'\n",
      "adding 'atomsci/ddm/utils/checksum_utils.py'\n",
      "adding 'atomsci/ddm/utils/compare_splits_plots.py'\n",
      "adding 'atomsci/ddm/utils/curate_data.py'\n",
      "adding 'atomsci/ddm/utils/data_curation_functions.py'\n",
      "adding 'atomsci/ddm/utils/datastore_functions.py'\n",
      "adding 'atomsci/ddm/utils/genTestset.py'\n",
      "adding 'atomsci/ddm/utils/hyperparam_search_wrapper.py'\n",
      "adding 'atomsci/ddm/utils/llnl_utils.py'\n",
      "adding 'atomsci/ddm/utils/model_retrain.py'\n",
      "adding 'atomsci/ddm/utils/open-docs.py'\n",
      "adding 'atomsci/ddm/utils/process_slurm.py'\n",
      "adding 'atomsci/ddm/utils/pubchem_utils.py'\n",
      "adding 'atomsci/ddm/utils/rdkit_easy.py'\n",
      "adding 'atomsci/ddm/utils/struct_utils.py'\n",
      "adding 'atomsci_ampl-1.3.0.dist-info/LICENSE'\n",
      "adding 'atomsci_ampl-1.3.0.dist-info/METADATA'\n",
      "adding 'atomsci_ampl-1.3.0.dist-info/NOTICE'\n",
      "adding 'atomsci_ampl-1.3.0.dist-info/WHEEL'\n",
      "adding 'atomsci_ampl-1.3.0.dist-info/namespace_packages.txt'\n",
      "adding 'atomsci_ampl-1.3.0.dist-info/top_level.txt'\n",
      "adding 'atomsci_ampl-1.3.0.dist-info/RECORD'\n",
      "removing /home/shoumo/atom/AMPL-master/atomsci/ddm/examples/tutorials/github/AMPL.build/ampl/bdist.linux-x86_64/wheel\n",
      "DIR: /home/shoumo/atom/AMPL-master/atomsci/ddm/examples/tutorials/github/AMPL\n",
      "Using pip 21.1.1 from /home/shoumo/anaconda3/envs/atomsci/lib/python3.7/site-packages/pip (python 3.7)\n",
      "Non-user install because site-packages writeable\n",
      "Ignoring indexes: https://pypi.org/simple\n",
      "Created temporary directory: /tmp/pip-ephem-wheel-cache-dnmi3e8j\n",
      "Created temporary directory: /tmp/pip-req-tracker-_ik2yecp\n",
      "Initialized build tracking at /tmp/pip-req-tracker-_ik2yecp\n",
      "Created build tracker: /tmp/pip-req-tracker-_ik2yecp\n",
      "Entered build tracker: /tmp/pip-req-tracker-_ik2yecp\n",
      "Created temporary directory: /tmp/pip-install-gbyjd18t\n",
      "Looking in links: /home/shoumo/atom/AMPL-master/atomsci/ddm/examples/tutorials/github/AMPL.dist\n",
      "0 location(s) to search for versions of atomsci-ampl:\n",
      "Found link file:///home/shoumo/atom/AMPL-master/atomsci/ddm/examples/tutorials/github/AMPL.dist/atomsci_ampl-1.3.0-py3-none-any.whl, version: 1.3.0\n",
      "Local files found: /home/shoumo/atom/AMPL-master/atomsci/ddm/examples/tutorials/github/AMPL.dist/atomsci_ampl-1.3.0-py3-none-any.whl\n",
      "Given no hashes to check 1 links for project 'atomsci-ampl': discarding no candidates\n",
      "Processing /home/shoumo/atom/AMPL-master/atomsci/ddm/examples/tutorials/github/AMPL.dist/atomsci_ampl-1.3.0-py3-none-any.whl\n",
      "  Added atomsci_ampl from file:///home/shoumo/atom/AMPL-master/atomsci/ddm/examples/tutorials/github/AMPL.dist/atomsci_ampl-1.3.0-py3-none-any.whl to build tracker '/tmp/pip-req-tracker-_ik2yecp'\n",
      "  Removed atomsci_ampl from file:///home/shoumo/atom/AMPL-master/atomsci/ddm/examples/tutorials/github/AMPL.dist/atomsci_ampl-1.3.0-py3-none-any.whl from build tracker '/tmp/pip-req-tracker-_ik2yecp'\n",
      "Created temporary directory: /tmp/pip-unpack-lff67u14\n",
      "Installing collected packages: atomsci-ampl\n",
      "\n",
      "Successfully installed atomsci-ampl-1.3.0\n",
      "Removed build tracker: '/tmp/pip-req-tracker-_ik2yecp'\n"
     ]
    }
   ],
   "source": [
    "import deepchem as dc\n",
    "\n",
    "# get the Install AMPL_GPU_test.sh\n",
    "! wget 'https://raw.githubusercontent.com/ATOMScience-org/AMPL/master/atomsci/ddm/examples/tutorials/config/install_AMPL_GPU_test.sh' >& /dev/null\n",
    "\n",
    "# run the script to install AMPL\n",
    "! chmod u+x install_AMPL_GPU_test.sh\n",
    "! ./install_AMPL_GPU_test.sh"
   ]
  },
  {
   "cell_type": "code",
   "execution_count": 4,
   "metadata": {
    "colab": {
     "base_uri": "https://localhost:8080/"
    },
    "id": "mflA92SEVk2x",
    "outputId": "88f41432-73aa-4be4-86e1-0719598f6432"
   },
   "outputs": [
    {
     "name": "stderr",
     "output_type": "stream",
     "text": [
      "Using backend: pytorch\n",
      "2022-03-20 12:01:19,992 Model tracker client not supported in your environment; will save models in filesystem only.\n"
     ]
    }
   ],
   "source": [
    "# We temporarily disable warnings for demonstration.\n",
    "# FutureWarnings and DeprecationWarnings are present from some of the AMPL \n",
    "# dependency modules.\n",
    "import warnings\n",
    "warnings.filterwarnings('ignore')\n",
    "\n",
    "import json\n",
    "import numpy as np\n",
    "import pandas as pd\n",
    "import os\n",
    "import requests\n",
    "import sys\n",
    "\n",
    "import atomsci.ddm.pipeline.model_pipeline as mp\n",
    "import atomsci.ddm.pipeline.parameter_parser as parse\n",
    "import atomsci.ddm.utils.curate_data as curate_data\n",
    "import atomsci.ddm.utils.struct_utils as struct_utils\n",
    "from atomsci.ddm.pipeline import perf_plots as pp\n"
   ]
  },
  {
   "cell_type": "markdown",
   "metadata": {
    "id": "oRrd09dCVk22"
   },
   "source": [
    "## Data curation\n",
    "\n",
    "We then download and do very simple curation to the related dataset.\n",
    "\n",
    "We need to set the directory we want to save files to. Next we download the dataset."
   ]
  },
  {
   "cell_type": "code",
   "execution_count": 5,
   "metadata": {
    "id": "11ccpX-onveT"
   },
   "outputs": [],
   "source": [
    "working_dir = '/content'"
   ]
  },
  {
   "cell_type": "code",
   "execution_count": 6,
   "metadata": {
    "id": "REL1w2ULAH8e"
   },
   "outputs": [],
   "source": [
    "import io\n",
    "url = 'https://raw.githubusercontent.com/deepchem/deepchem/master/datasets/delaney-processed.csv'\n",
    "download = requests.get(url).content"
   ]
  },
  {
   "cell_type": "code",
   "execution_count": 7,
   "metadata": {
    "id": "B524IFKtAOdR"
   },
   "outputs": [],
   "source": [
    "# Reading the downloaded content and turning it into a pandas dataframe\n",
    "raw_df = pd.read_csv(io.StringIO(download.decode('utf-8')), sep=',', header=0 )"
   ]
  },
  {
   "cell_type": "markdown",
   "metadata": {
    "id": "dCxw6gNmVk29"
   },
   "source": [
    "Next, we load the downloaded dataset, and process the compound structures:"
   ]
  },
  {
   "cell_type": "code",
   "execution_count": 8,
   "metadata": {
    "id": "Lk83NzbkwfZG"
   },
   "outputs": [],
   "source": [
    "data_orig = raw_df"
   ]
  },
  {
   "cell_type": "code",
   "execution_count": 9,
   "metadata": {
    "colab": {
     "base_uri": "https://localhost:8080/"
    },
    "id": "XoZYHbJK_UA7",
    "outputId": "8a88839a-e2c2-44f5-8f4e-518a059f3b08"
   },
   "outputs": [
    {
     "data": {
      "text/plain": [
       "Index(['Compound ID', 'ESOL predicted log solubility in mols per litre',\n",
       "       'Minimum Degree', 'Molecular Weight', 'Number of H-Bond Donors',\n",
       "       'Number of Rings', 'Number of Rotatable Bonds', 'Polar Surface Area',\n",
       "       'measured log solubility in mols per litre', 'smiles'],\n",
       "      dtype='object')"
      ]
     },
     "execution_count": 9,
     "metadata": {},
     "output_type": "execute_result"
    }
   ],
   "source": [
    "raw_df.columns"
   ]
  },
  {
   "cell_type": "code",
   "execution_count": 10,
   "metadata": {
    "colab": {
     "base_uri": "https://localhost:8080/",
     "height": 224
    },
    "id": "AygEGe71_YSv",
    "outputId": "9ba7c63c-33a9-4d25-f90b-cc2832bb0df8"
   },
   "outputs": [
    {
     "data": {
      "text/html": [
       "<div>\n",
       "<style scoped>\n",
       "    .dataframe tbody tr th:only-of-type {\n",
       "        vertical-align: middle;\n",
       "    }\n",
       "\n",
       "    .dataframe tbody tr th {\n",
       "        vertical-align: top;\n",
       "    }\n",
       "\n",
       "    .dataframe thead th {\n",
       "        text-align: right;\n",
       "    }\n",
       "</style>\n",
       "<table border=\"1\" class=\"dataframe\">\n",
       "  <thead>\n",
       "    <tr style=\"text-align: right;\">\n",
       "      <th></th>\n",
       "      <th>Compound ID</th>\n",
       "      <th>ESOL predicted log solubility in mols per litre</th>\n",
       "      <th>Minimum Degree</th>\n",
       "      <th>Molecular Weight</th>\n",
       "      <th>Number of H-Bond Donors</th>\n",
       "      <th>Number of Rings</th>\n",
       "      <th>Number of Rotatable Bonds</th>\n",
       "      <th>Polar Surface Area</th>\n",
       "      <th>measured log solubility in mols per litre</th>\n",
       "      <th>smiles</th>\n",
       "    </tr>\n",
       "  </thead>\n",
       "  <tbody>\n",
       "    <tr>\n",
       "      <th>0</th>\n",
       "      <td>Amigdalin</td>\n",
       "      <td>-0.974</td>\n",
       "      <td>1</td>\n",
       "      <td>457.432</td>\n",
       "      <td>7</td>\n",
       "      <td>3</td>\n",
       "      <td>7</td>\n",
       "      <td>202.32</td>\n",
       "      <td>-0.77</td>\n",
       "      <td>OCC3OC(OCC2OC(OC(C#N)c1ccccc1)C(O)C(O)C2O)C(O)...</td>\n",
       "    </tr>\n",
       "    <tr>\n",
       "      <th>1</th>\n",
       "      <td>Fenfuram</td>\n",
       "      <td>-2.885</td>\n",
       "      <td>1</td>\n",
       "      <td>201.225</td>\n",
       "      <td>1</td>\n",
       "      <td>2</td>\n",
       "      <td>2</td>\n",
       "      <td>42.24</td>\n",
       "      <td>-3.30</td>\n",
       "      <td>Cc1occc1C(=O)Nc2ccccc2</td>\n",
       "    </tr>\n",
       "    <tr>\n",
       "      <th>2</th>\n",
       "      <td>citral</td>\n",
       "      <td>-2.579</td>\n",
       "      <td>1</td>\n",
       "      <td>152.237</td>\n",
       "      <td>0</td>\n",
       "      <td>0</td>\n",
       "      <td>4</td>\n",
       "      <td>17.07</td>\n",
       "      <td>-2.06</td>\n",
       "      <td>CC(C)=CCCC(C)=CC(=O)</td>\n",
       "    </tr>\n",
       "    <tr>\n",
       "      <th>3</th>\n",
       "      <td>Picene</td>\n",
       "      <td>-6.618</td>\n",
       "      <td>2</td>\n",
       "      <td>278.354</td>\n",
       "      <td>0</td>\n",
       "      <td>5</td>\n",
       "      <td>0</td>\n",
       "      <td>0.00</td>\n",
       "      <td>-7.87</td>\n",
       "      <td>c1ccc2c(c1)ccc3c2ccc4c5ccccc5ccc43</td>\n",
       "    </tr>\n",
       "    <tr>\n",
       "      <th>4</th>\n",
       "      <td>Thiophene</td>\n",
       "      <td>-2.232</td>\n",
       "      <td>2</td>\n",
       "      <td>84.143</td>\n",
       "      <td>0</td>\n",
       "      <td>1</td>\n",
       "      <td>0</td>\n",
       "      <td>0.00</td>\n",
       "      <td>-1.33</td>\n",
       "      <td>c1ccsc1</td>\n",
       "    </tr>\n",
       "  </tbody>\n",
       "</table>\n",
       "</div>"
      ],
      "text/plain": [
       "  Compound ID  ESOL predicted log solubility in mols per litre  \\\n",
       "0   Amigdalin                                           -0.974   \n",
       "1    Fenfuram                                           -2.885   \n",
       "2      citral                                           -2.579   \n",
       "3      Picene                                           -6.618   \n",
       "4   Thiophene                                           -2.232   \n",
       "\n",
       "   Minimum Degree  Molecular Weight  Number of H-Bond Donors  Number of Rings  \\\n",
       "0               1           457.432                        7                3   \n",
       "1               1           201.225                        1                2   \n",
       "2               1           152.237                        0                0   \n",
       "3               2           278.354                        0                5   \n",
       "4               2            84.143                        0                1   \n",
       "\n",
       "   Number of Rotatable Bonds  Polar Surface Area  \\\n",
       "0                          7              202.32   \n",
       "1                          2               42.24   \n",
       "2                          4               17.07   \n",
       "3                          0                0.00   \n",
       "4                          0                0.00   \n",
       "\n",
       "   measured log solubility in mols per litre  \\\n",
       "0                                      -0.77   \n",
       "1                                      -3.30   \n",
       "2                                      -2.06   \n",
       "3                                      -7.87   \n",
       "4                                      -1.33   \n",
       "\n",
       "                                              smiles  \n",
       "0  OCC3OC(OCC2OC(OC(C#N)c1ccccc1)C(O)C(O)C2O)C(O)...  \n",
       "1                             Cc1occc1C(=O)Nc2ccccc2  \n",
       "2                               CC(C)=CCCC(C)=CC(=O)  \n",
       "3                 c1ccc2c(c1)ccc3c2ccc4c5ccccc5ccc43  \n",
       "4                                            c1ccsc1  "
      ]
     },
     "execution_count": 10,
     "metadata": {},
     "output_type": "execute_result"
    }
   ],
   "source": [
    "raw_df.head(5)"
   ]
  },
  {
   "cell_type": "code",
   "execution_count": 11,
   "metadata": {
    "id": "0vlfZzbxVk2-"
   },
   "outputs": [],
   "source": [
    "# base_smiles_from_smiles:\n",
    "# Generate a standardized SMILES, InChI keys for dataset with curation and structure modules.\n",
    "# RDkit modules are used to process the SMILES strings\n",
    "\n",
    "# Default Arg options: \n",
    "# useIsomericSmiles = True\n",
    "# removeCharges = False \n",
    "\n",
    "raw_df['rdkit_smiles'] = raw_df['smiles'].apply(curate_data.base_smiles_from_smiles)"
   ]
  },
  {
   "cell_type": "markdown",
   "metadata": {
    "id": "n0OctfHTBclP"
   },
   "source": [
    "## What happened after calling `base_smiles_from_smiles`?\n",
    "Also remember the column name of the `rdkit_smiles`, we will use the standardized smiles later as input in our model calculations "
   ]
  },
  {
   "cell_type": "code",
   "execution_count": 12,
   "metadata": {
    "colab": {
     "base_uri": "https://localhost:8080/",
     "height": 226
    },
    "id": "E5xPHZptBNB-",
    "outputId": "6829224e-c4dc-44d6-acd8-fd2a02176ba8"
   },
   "outputs": [
    {
     "data": {
      "text/html": [
       "<div>\n",
       "<style scoped>\n",
       "    .dataframe tbody tr th:only-of-type {\n",
       "        vertical-align: middle;\n",
       "    }\n",
       "\n",
       "    .dataframe tbody tr th {\n",
       "        vertical-align: top;\n",
       "    }\n",
       "\n",
       "    .dataframe thead th {\n",
       "        text-align: right;\n",
       "    }\n",
       "</style>\n",
       "<table border=\"1\" class=\"dataframe\">\n",
       "  <thead>\n",
       "    <tr style=\"text-align: right;\">\n",
       "      <th></th>\n",
       "      <th>Compound ID</th>\n",
       "      <th>ESOL predicted log solubility in mols per litre</th>\n",
       "      <th>Minimum Degree</th>\n",
       "      <th>Molecular Weight</th>\n",
       "      <th>Number of H-Bond Donors</th>\n",
       "      <th>Number of Rings</th>\n",
       "      <th>Number of Rotatable Bonds</th>\n",
       "      <th>Polar Surface Area</th>\n",
       "      <th>measured log solubility in mols per litre</th>\n",
       "      <th>smiles</th>\n",
       "      <th>rdkit_smiles</th>\n",
       "    </tr>\n",
       "  </thead>\n",
       "  <tbody>\n",
       "    <tr>\n",
       "      <th>0</th>\n",
       "      <td>Amigdalin</td>\n",
       "      <td>-0.974</td>\n",
       "      <td>1</td>\n",
       "      <td>457.432</td>\n",
       "      <td>7</td>\n",
       "      <td>3</td>\n",
       "      <td>7</td>\n",
       "      <td>202.32</td>\n",
       "      <td>-0.77</td>\n",
       "      <td>OCC3OC(OCC2OC(OC(C#N)c1ccccc1)C(O)C(O)C2O)C(O)...</td>\n",
       "      <td>N#CC(OC1OC(COC2OC(CO)C(O)C(O)C2O)C(O)C(O)C1O)c...</td>\n",
       "    </tr>\n",
       "    <tr>\n",
       "      <th>1</th>\n",
       "      <td>Fenfuram</td>\n",
       "      <td>-2.885</td>\n",
       "      <td>1</td>\n",
       "      <td>201.225</td>\n",
       "      <td>1</td>\n",
       "      <td>2</td>\n",
       "      <td>2</td>\n",
       "      <td>42.24</td>\n",
       "      <td>-3.30</td>\n",
       "      <td>Cc1occc1C(=O)Nc2ccccc2</td>\n",
       "      <td>Cc1occc1C(=O)Nc1ccccc1</td>\n",
       "    </tr>\n",
       "    <tr>\n",
       "      <th>2</th>\n",
       "      <td>citral</td>\n",
       "      <td>-2.579</td>\n",
       "      <td>1</td>\n",
       "      <td>152.237</td>\n",
       "      <td>0</td>\n",
       "      <td>0</td>\n",
       "      <td>4</td>\n",
       "      <td>17.07</td>\n",
       "      <td>-2.06</td>\n",
       "      <td>CC(C)=CCCC(C)=CC(=O)</td>\n",
       "      <td>CC(C)=CCCC(C)=CC=O</td>\n",
       "    </tr>\n",
       "    <tr>\n",
       "      <th>3</th>\n",
       "      <td>Picene</td>\n",
       "      <td>-6.618</td>\n",
       "      <td>2</td>\n",
       "      <td>278.354</td>\n",
       "      <td>0</td>\n",
       "      <td>5</td>\n",
       "      <td>0</td>\n",
       "      <td>0.00</td>\n",
       "      <td>-7.87</td>\n",
       "      <td>c1ccc2c(c1)ccc3c2ccc4c5ccccc5ccc43</td>\n",
       "      <td>c1ccc2c(c1)ccc1c2ccc2c3ccccc3ccc21</td>\n",
       "    </tr>\n",
       "  </tbody>\n",
       "</table>\n",
       "</div>"
      ],
      "text/plain": [
       "  Compound ID  ESOL predicted log solubility in mols per litre  \\\n",
       "0   Amigdalin                                           -0.974   \n",
       "1    Fenfuram                                           -2.885   \n",
       "2      citral                                           -2.579   \n",
       "3      Picene                                           -6.618   \n",
       "\n",
       "   Minimum Degree  Molecular Weight  Number of H-Bond Donors  Number of Rings  \\\n",
       "0               1           457.432                        7                3   \n",
       "1               1           201.225                        1                2   \n",
       "2               1           152.237                        0                0   \n",
       "3               2           278.354                        0                5   \n",
       "\n",
       "   Number of Rotatable Bonds  Polar Surface Area  \\\n",
       "0                          7              202.32   \n",
       "1                          2               42.24   \n",
       "2                          4               17.07   \n",
       "3                          0                0.00   \n",
       "\n",
       "   measured log solubility in mols per litre  \\\n",
       "0                                      -0.77   \n",
       "1                                      -3.30   \n",
       "2                                      -2.06   \n",
       "3                                      -7.87   \n",
       "\n",
       "                                              smiles  \\\n",
       "0  OCC3OC(OCC2OC(OC(C#N)c1ccccc1)C(O)C(O)C2O)C(O)...   \n",
       "1                             Cc1occc1C(=O)Nc2ccccc2   \n",
       "2                               CC(C)=CCCC(C)=CC(=O)   \n",
       "3                 c1ccc2c(c1)ccc3c2ccc4c5ccccc5ccc43   \n",
       "\n",
       "                                        rdkit_smiles  \n",
       "0  N#CC(OC1OC(COC2OC(CO)C(O)C(O)C2O)C(O)C(O)C1O)c...  \n",
       "1                             Cc1occc1C(=O)Nc1ccccc1  \n",
       "2                                 CC(C)=CCCC(C)=CC=O  \n",
       "3                 c1ccc2c(c1)ccc1c2ccc2c3ccccc3ccc21  "
      ]
     },
     "execution_count": 12,
     "metadata": {},
     "output_type": "execute_result"
    }
   ],
   "source": [
    "raw_df.head(4)"
   ]
  },
  {
   "cell_type": "markdown",
   "metadata": {
    "id": "hqRne34HCJNJ"
   },
   "source": [
    "## In the following cell, we will call smiles_to_inchi_key to create InChi Keys  \n",
    "\n",
    "We will create InChi key (https://en.wikipedia.org/wiki/International_Chemical_Identifier) from SMILES string using RDKit. Note if for some reason, the convertion fails, you will see None as output"
   ]
  },
  {
   "cell_type": "code",
   "execution_count": 13,
   "metadata": {
    "id": "lAcU1ThYBFBE"
   },
   "outputs": [],
   "source": [
    "raw_df['inchi_key'] = raw_df['smiles'].apply(struct_utils.smiles_to_inchi_key)"
   ]
  },
  {
   "cell_type": "markdown",
   "metadata": {
    "id": "aA3QdohoCtkV"
   },
   "source": [
    "## Note the addition of new column, inchi_key"
   ]
  },
  {
   "cell_type": "code",
   "execution_count": 14,
   "metadata": {
    "colab": {
     "base_uri": "https://localhost:8080/",
     "height": 282
    },
    "id": "lhRyu3ssCmWN",
    "outputId": "cf2bab78-d4c4-47a0-cc4d-bfdcb6e3ed8f"
   },
   "outputs": [
    {
     "data": {
      "text/html": [
       "<div>\n",
       "<style scoped>\n",
       "    .dataframe tbody tr th:only-of-type {\n",
       "        vertical-align: middle;\n",
       "    }\n",
       "\n",
       "    .dataframe tbody tr th {\n",
       "        vertical-align: top;\n",
       "    }\n",
       "\n",
       "    .dataframe thead th {\n",
       "        text-align: right;\n",
       "    }\n",
       "</style>\n",
       "<table border=\"1\" class=\"dataframe\">\n",
       "  <thead>\n",
       "    <tr style=\"text-align: right;\">\n",
       "      <th></th>\n",
       "      <th>Compound ID</th>\n",
       "      <th>ESOL predicted log solubility in mols per litre</th>\n",
       "      <th>Minimum Degree</th>\n",
       "      <th>Molecular Weight</th>\n",
       "      <th>Number of H-Bond Donors</th>\n",
       "      <th>Number of Rings</th>\n",
       "      <th>Number of Rotatable Bonds</th>\n",
       "      <th>Polar Surface Area</th>\n",
       "      <th>measured log solubility in mols per litre</th>\n",
       "      <th>smiles</th>\n",
       "      <th>rdkit_smiles</th>\n",
       "      <th>inchi_key</th>\n",
       "    </tr>\n",
       "  </thead>\n",
       "  <tbody>\n",
       "    <tr>\n",
       "      <th>0</th>\n",
       "      <td>Amigdalin</td>\n",
       "      <td>-0.974</td>\n",
       "      <td>1</td>\n",
       "      <td>457.432</td>\n",
       "      <td>7</td>\n",
       "      <td>3</td>\n",
       "      <td>7</td>\n",
       "      <td>202.32</td>\n",
       "      <td>-0.77</td>\n",
       "      <td>OCC3OC(OCC2OC(OC(C#N)c1ccccc1)C(O)C(O)C2O)C(O)...</td>\n",
       "      <td>N#CC(OC1OC(COC2OC(CO)C(O)C(O)C2O)C(O)C(O)C1O)c...</td>\n",
       "      <td>XUCIJNAGGSZNQT-UHFFFAOYSA-N</td>\n",
       "    </tr>\n",
       "    <tr>\n",
       "      <th>1</th>\n",
       "      <td>Fenfuram</td>\n",
       "      <td>-2.885</td>\n",
       "      <td>1</td>\n",
       "      <td>201.225</td>\n",
       "      <td>1</td>\n",
       "      <td>2</td>\n",
       "      <td>2</td>\n",
       "      <td>42.24</td>\n",
       "      <td>-3.30</td>\n",
       "      <td>Cc1occc1C(=O)Nc2ccccc2</td>\n",
       "      <td>Cc1occc1C(=O)Nc1ccccc1</td>\n",
       "      <td>JFSPBVWPKOEZCB-UHFFFAOYSA-N</td>\n",
       "    </tr>\n",
       "    <tr>\n",
       "      <th>2</th>\n",
       "      <td>citral</td>\n",
       "      <td>-2.579</td>\n",
       "      <td>1</td>\n",
       "      <td>152.237</td>\n",
       "      <td>0</td>\n",
       "      <td>0</td>\n",
       "      <td>4</td>\n",
       "      <td>17.07</td>\n",
       "      <td>-2.06</td>\n",
       "      <td>CC(C)=CCCC(C)=CC(=O)</td>\n",
       "      <td>CC(C)=CCCC(C)=CC=O</td>\n",
       "      <td>WTEVQBCEXWBHNA-UHFFFAOYSA-N</td>\n",
       "    </tr>\n",
       "  </tbody>\n",
       "</table>\n",
       "</div>"
      ],
      "text/plain": [
       "  Compound ID  ESOL predicted log solubility in mols per litre  \\\n",
       "0   Amigdalin                                           -0.974   \n",
       "1    Fenfuram                                           -2.885   \n",
       "2      citral                                           -2.579   \n",
       "\n",
       "   Minimum Degree  Molecular Weight  Number of H-Bond Donors  Number of Rings  \\\n",
       "0               1           457.432                        7                3   \n",
       "1               1           201.225                        1                2   \n",
       "2               1           152.237                        0                0   \n",
       "\n",
       "   Number of Rotatable Bonds  Polar Surface Area  \\\n",
       "0                          7              202.32   \n",
       "1                          2               42.24   \n",
       "2                          4               17.07   \n",
       "\n",
       "   measured log solubility in mols per litre  \\\n",
       "0                                      -0.77   \n",
       "1                                      -3.30   \n",
       "2                                      -2.06   \n",
       "\n",
       "                                              smiles  \\\n",
       "0  OCC3OC(OCC2OC(OC(C#N)c1ccccc1)C(O)C(O)C2O)C(O)...   \n",
       "1                             Cc1occc1C(=O)Nc2ccccc2   \n",
       "2                               CC(C)=CCCC(C)=CC(=O)   \n",
       "\n",
       "                                        rdkit_smiles  \\\n",
       "0  N#CC(OC1OC(COC2OC(CO)C(O)C(O)C2O)C(O)C(O)C1O)c...   \n",
       "1                             Cc1occc1C(=O)Nc1ccccc1   \n",
       "2                                 CC(C)=CCCC(C)=CC=O   \n",
       "\n",
       "                     inchi_key  \n",
       "0  XUCIJNAGGSZNQT-UHFFFAOYSA-N  \n",
       "1  JFSPBVWPKOEZCB-UHFFFAOYSA-N  \n",
       "2  WTEVQBCEXWBHNA-UHFFFAOYSA-N  "
      ]
     },
     "execution_count": 14,
     "metadata": {},
     "output_type": "execute_result"
    }
   ],
   "source": [
    "raw_df.head(3)"
   ]
  },
  {
   "cell_type": "code",
   "execution_count": 15,
   "metadata": {
    "id": "oBqiftr2BITr"
   },
   "outputs": [],
   "source": [
    "data = raw_df\n",
    "data['compound_id'] = data['inchi_key']"
   ]
  },
  {
   "cell_type": "markdown",
   "metadata": {
    "id": "7FTViEdxV0tL"
   },
   "source": [
    "## Let us review the dataset"
   ]
  },
  {
   "cell_type": "code",
   "execution_count": 16,
   "metadata": {
    "colab": {
     "base_uri": "https://localhost:8080/",
     "height": 302
    },
    "id": "76gx-pYMVqQv",
    "outputId": "a44b9e2a-2ffc-416a-e9af-50ef3ec3afae"
   },
   "outputs": [
    {
     "data": {
      "text/html": [
       "<div>\n",
       "<style scoped>\n",
       "    .dataframe tbody tr th:only-of-type {\n",
       "        vertical-align: middle;\n",
       "    }\n",
       "\n",
       "    .dataframe tbody tr th {\n",
       "        vertical-align: top;\n",
       "    }\n",
       "\n",
       "    .dataframe thead th {\n",
       "        text-align: right;\n",
       "    }\n",
       "</style>\n",
       "<table border=\"1\" class=\"dataframe\">\n",
       "  <thead>\n",
       "    <tr style=\"text-align: right;\">\n",
       "      <th></th>\n",
       "      <th>Compound ID</th>\n",
       "      <th>ESOL predicted log solubility in mols per litre</th>\n",
       "      <th>Minimum Degree</th>\n",
       "      <th>Molecular Weight</th>\n",
       "      <th>Number of H-Bond Donors</th>\n",
       "      <th>Number of Rings</th>\n",
       "      <th>Number of Rotatable Bonds</th>\n",
       "      <th>Polar Surface Area</th>\n",
       "      <th>measured log solubility in mols per litre</th>\n",
       "      <th>smiles</th>\n",
       "      <th>rdkit_smiles</th>\n",
       "      <th>inchi_key</th>\n",
       "      <th>compound_id</th>\n",
       "    </tr>\n",
       "  </thead>\n",
       "  <tbody>\n",
       "    <tr>\n",
       "      <th>0</th>\n",
       "      <td>Amigdalin</td>\n",
       "      <td>-0.974</td>\n",
       "      <td>1</td>\n",
       "      <td>457.432</td>\n",
       "      <td>7</td>\n",
       "      <td>3</td>\n",
       "      <td>7</td>\n",
       "      <td>202.32</td>\n",
       "      <td>-0.77</td>\n",
       "      <td>OCC3OC(OCC2OC(OC(C#N)c1ccccc1)C(O)C(O)C2O)C(O)...</td>\n",
       "      <td>N#CC(OC1OC(COC2OC(CO)C(O)C(O)C2O)C(O)C(O)C1O)c...</td>\n",
       "      <td>XUCIJNAGGSZNQT-UHFFFAOYSA-N</td>\n",
       "      <td>XUCIJNAGGSZNQT-UHFFFAOYSA-N</td>\n",
       "    </tr>\n",
       "    <tr>\n",
       "      <th>1</th>\n",
       "      <td>Fenfuram</td>\n",
       "      <td>-2.885</td>\n",
       "      <td>1</td>\n",
       "      <td>201.225</td>\n",
       "      <td>1</td>\n",
       "      <td>2</td>\n",
       "      <td>2</td>\n",
       "      <td>42.24</td>\n",
       "      <td>-3.30</td>\n",
       "      <td>Cc1occc1C(=O)Nc2ccccc2</td>\n",
       "      <td>Cc1occc1C(=O)Nc1ccccc1</td>\n",
       "      <td>JFSPBVWPKOEZCB-UHFFFAOYSA-N</td>\n",
       "      <td>JFSPBVWPKOEZCB-UHFFFAOYSA-N</td>\n",
       "    </tr>\n",
       "    <tr>\n",
       "      <th>2</th>\n",
       "      <td>citral</td>\n",
       "      <td>-2.579</td>\n",
       "      <td>1</td>\n",
       "      <td>152.237</td>\n",
       "      <td>0</td>\n",
       "      <td>0</td>\n",
       "      <td>4</td>\n",
       "      <td>17.07</td>\n",
       "      <td>-2.06</td>\n",
       "      <td>CC(C)=CCCC(C)=CC(=O)</td>\n",
       "      <td>CC(C)=CCCC(C)=CC=O</td>\n",
       "      <td>WTEVQBCEXWBHNA-UHFFFAOYSA-N</td>\n",
       "      <td>WTEVQBCEXWBHNA-UHFFFAOYSA-N</td>\n",
       "    </tr>\n",
       "  </tbody>\n",
       "</table>\n",
       "</div>"
      ],
      "text/plain": [
       "  Compound ID  ESOL predicted log solubility in mols per litre  \\\n",
       "0   Amigdalin                                           -0.974   \n",
       "1    Fenfuram                                           -2.885   \n",
       "2      citral                                           -2.579   \n",
       "\n",
       "   Minimum Degree  Molecular Weight  Number of H-Bond Donors  Number of Rings  \\\n",
       "0               1           457.432                        7                3   \n",
       "1               1           201.225                        1                2   \n",
       "2               1           152.237                        0                0   \n",
       "\n",
       "   Number of Rotatable Bonds  Polar Surface Area  \\\n",
       "0                          7              202.32   \n",
       "1                          2               42.24   \n",
       "2                          4               17.07   \n",
       "\n",
       "   measured log solubility in mols per litre  \\\n",
       "0                                      -0.77   \n",
       "1                                      -3.30   \n",
       "2                                      -2.06   \n",
       "\n",
       "                                              smiles  \\\n",
       "0  OCC3OC(OCC2OC(OC(C#N)c1ccccc1)C(O)C(O)C2O)C(O)...   \n",
       "1                             Cc1occc1C(=O)Nc2ccccc2   \n",
       "2                               CC(C)=CCCC(C)=CC(=O)   \n",
       "\n",
       "                                        rdkit_smiles  \\\n",
       "0  N#CC(OC1OC(COC2OC(CO)C(O)C(O)C2O)C(O)C(O)C1O)c...   \n",
       "1                             Cc1occc1C(=O)Nc1ccccc1   \n",
       "2                                 CC(C)=CCCC(C)=CC=O   \n",
       "\n",
       "                     inchi_key                  compound_id  \n",
       "0  XUCIJNAGGSZNQT-UHFFFAOYSA-N  XUCIJNAGGSZNQT-UHFFFAOYSA-N  \n",
       "1  JFSPBVWPKOEZCB-UHFFFAOYSA-N  JFSPBVWPKOEZCB-UHFFFAOYSA-N  \n",
       "2  WTEVQBCEXWBHNA-UHFFFAOYSA-N  WTEVQBCEXWBHNA-UHFFFAOYSA-N  "
      ]
     },
     "execution_count": 16,
     "metadata": {},
     "output_type": "execute_result"
    }
   ],
   "source": [
    "data.head(3)"
   ]
  },
  {
   "cell_type": "markdown",
   "metadata": {
    "id": "woi0jHBPRWF_"
   },
   "source": [
    "## Let us view some molecules"
   ]
  },
  {
   "cell_type": "code",
   "execution_count": 17,
   "metadata": {
    "colab": {
     "base_uri": "https://localhost:8080/"
    },
    "id": "e-PXYKNPRc1u",
    "outputId": "2a91fae2-8fc8-41ff-8bcc-67116160c4e5"
   },
   "outputs": [
    {
     "data": {
      "text/plain": [
       "0    OCC3OC(OCC2OC(OC(C#N)c1ccccc1)C(O)C(O)C2O)C(O)...\n",
       "1                               Cc1occc1C(=O)Nc2ccccc2\n",
       "2                                 CC(C)=CCCC(C)=CC(=O)\n",
       "3                   c1ccc2c(c1)ccc3c2ccc4c5ccccc5ccc43\n",
       "4                                              c1ccsc1\n",
       "5                                       c2ccc1scnc1c2 \n",
       "6                   Clc1cc(Cl)c(c(Cl)c1)c2c(Cl)cccc2Cl\n",
       "7                     CC12CCC3C(CCc4cc(O)ccc34)C2CCC1O\n",
       "8       ClC4=C(Cl)C5(Cl)C3C1CC(C2OC12)C3C4(Cl)C5(Cl)Cl\n",
       "9     COc5cc4OCC3Oc2c1CC(Oc1ccc2C(=O)C3c4cc5OC)C(C)=C \n",
       "Name: smiles, dtype: object"
      ]
     },
     "execution_count": 17,
     "metadata": {},
     "output_type": "execute_result"
    }
   ],
   "source": [
    "data['smiles'][0:10]"
   ]
  },
  {
   "cell_type": "code",
   "execution_count": 18,
   "metadata": {
    "colab": {
     "base_uri": "https://localhost:8080/",
     "height": 617
    },
    "id": "gFVa3jHrTJ6Y",
    "outputId": "c5ad01fc-c1c7-4447-d6a0-56895695ce95"
   },
   "outputs": [
    {
     "data": {
      "image/png": "[encoded data removed]",
      "text/plain": [
       "<IPython.core.display.Image object>"
      ]
     },
     "execution_count": 18,
     "metadata": {},
     "output_type": "execute_result"
    }
   ],
   "source": [
    "from rdkit import Chem\n",
    "from rdkit.Chem import Draw\n",
    "from itertools import islice\n",
    "\n",
    "molecules = [Chem.MolFromSmiles(smiles) for smiles in islice(data['smiles'], 9)]\n",
    "\n",
    "Draw.MolsToGridImage(molecules)"
   ]
  },
  {
   "cell_type": "markdown",
   "metadata": {
    "id": "Jmqtyr4bVk3B"
   },
   "source": [
    "The next step is to address the case where we have multiple measurements for a single structure (by RDkit canonical SMILEs string). We have a function in the `curate_data()` module to address the processing of compounds. The function parameters are listed below along with an explanation of each parameter:"
   ]
  },
  {
   "cell_type": "code",
   "execution_count": 19,
   "metadata": {
    "colab": {
     "base_uri": "https://localhost:8080/",
     "height": 704
    },
    "id": "itthUq-QGRfk",
    "outputId": "0f6306ed-45f8-43bb-b039-4987e096feca"
   },
   "outputs": [
    {
     "data": {
      "text/html": [
       "<div>\n",
       "<style scoped>\n",
       "    .dataframe tbody tr th:only-of-type {\n",
       "        vertical-align: middle;\n",
       "    }\n",
       "\n",
       "    .dataframe tbody tr th {\n",
       "        vertical-align: top;\n",
       "    }\n",
       "\n",
       "    .dataframe thead th {\n",
       "        text-align: right;\n",
       "    }\n",
       "</style>\n",
       "<table border=\"1\" class=\"dataframe\">\n",
       "  <thead>\n",
       "    <tr style=\"text-align: right;\">\n",
       "      <th></th>\n",
       "      <th>Compound ID</th>\n",
       "      <th>ESOL predicted log solubility in mols per litre</th>\n",
       "      <th>Minimum Degree</th>\n",
       "      <th>Molecular Weight</th>\n",
       "      <th>Number of H-Bond Donors</th>\n",
       "      <th>Number of Rings</th>\n",
       "      <th>Number of Rotatable Bonds</th>\n",
       "      <th>Polar Surface Area</th>\n",
       "      <th>measured log solubility in mols per litre</th>\n",
       "      <th>smiles</th>\n",
       "      <th>rdkit_smiles</th>\n",
       "      <th>inchi_key</th>\n",
       "      <th>compound_id</th>\n",
       "    </tr>\n",
       "  </thead>\n",
       "  <tbody>\n",
       "    <tr>\n",
       "      <th>0</th>\n",
       "      <td>Amigdalin</td>\n",
       "      <td>-0.974</td>\n",
       "      <td>1</td>\n",
       "      <td>457.432</td>\n",
       "      <td>7</td>\n",
       "      <td>3</td>\n",
       "      <td>7</td>\n",
       "      <td>202.32</td>\n",
       "      <td>-0.770</td>\n",
       "      <td>OCC3OC(OCC2OC(OC(C#N)c1ccccc1)C(O)C(O)C2O)C(O)...</td>\n",
       "      <td>N#CC(OC1OC(COC2OC(CO)C(O)C(O)C2O)C(O)C(O)C1O)c...</td>\n",
       "      <td>XUCIJNAGGSZNQT-UHFFFAOYSA-N</td>\n",
       "      <td>XUCIJNAGGSZNQT-UHFFFAOYSA-N</td>\n",
       "    </tr>\n",
       "    <tr>\n",
       "      <th>1</th>\n",
       "      <td>Fenfuram</td>\n",
       "      <td>-2.885</td>\n",
       "      <td>1</td>\n",
       "      <td>201.225</td>\n",
       "      <td>1</td>\n",
       "      <td>2</td>\n",
       "      <td>2</td>\n",
       "      <td>42.24</td>\n",
       "      <td>-3.300</td>\n",
       "      <td>Cc1occc1C(=O)Nc2ccccc2</td>\n",
       "      <td>Cc1occc1C(=O)Nc1ccccc1</td>\n",
       "      <td>JFSPBVWPKOEZCB-UHFFFAOYSA-N</td>\n",
       "      <td>JFSPBVWPKOEZCB-UHFFFAOYSA-N</td>\n",
       "    </tr>\n",
       "    <tr>\n",
       "      <th>2</th>\n",
       "      <td>citral</td>\n",
       "      <td>-2.579</td>\n",
       "      <td>1</td>\n",
       "      <td>152.237</td>\n",
       "      <td>0</td>\n",
       "      <td>0</td>\n",
       "      <td>4</td>\n",
       "      <td>17.07</td>\n",
       "      <td>-2.060</td>\n",
       "      <td>CC(C)=CCCC(C)=CC(=O)</td>\n",
       "      <td>CC(C)=CCCC(C)=CC=O</td>\n",
       "      <td>WTEVQBCEXWBHNA-UHFFFAOYSA-N</td>\n",
       "      <td>WTEVQBCEXWBHNA-UHFFFAOYSA-N</td>\n",
       "    </tr>\n",
       "    <tr>\n",
       "      <th>3</th>\n",
       "      <td>Picene</td>\n",
       "      <td>-6.618</td>\n",
       "      <td>2</td>\n",
       "      <td>278.354</td>\n",
       "      <td>0</td>\n",
       "      <td>5</td>\n",
       "      <td>0</td>\n",
       "      <td>0.00</td>\n",
       "      <td>-7.870</td>\n",
       "      <td>c1ccc2c(c1)ccc3c2ccc4c5ccccc5ccc43</td>\n",
       "      <td>c1ccc2c(c1)ccc1c2ccc2c3ccccc3ccc21</td>\n",
       "      <td>GBROPGWFBFCKAG-UHFFFAOYSA-N</td>\n",
       "      <td>GBROPGWFBFCKAG-UHFFFAOYSA-N</td>\n",
       "    </tr>\n",
       "    <tr>\n",
       "      <th>4</th>\n",
       "      <td>Thiophene</td>\n",
       "      <td>-2.232</td>\n",
       "      <td>2</td>\n",
       "      <td>84.143</td>\n",
       "      <td>0</td>\n",
       "      <td>1</td>\n",
       "      <td>0</td>\n",
       "      <td>0.00</td>\n",
       "      <td>-1.330</td>\n",
       "      <td>c1ccsc1</td>\n",
       "      <td>c1ccsc1</td>\n",
       "      <td>YTPLMLYBLZKORZ-UHFFFAOYSA-N</td>\n",
       "      <td>YTPLMLYBLZKORZ-UHFFFAOYSA-N</td>\n",
       "    </tr>\n",
       "    <tr>\n",
       "      <th>...</th>\n",
       "      <td>...</td>\n",
       "      <td>...</td>\n",
       "      <td>...</td>\n",
       "      <td>...</td>\n",
       "      <td>...</td>\n",
       "      <td>...</td>\n",
       "      <td>...</td>\n",
       "      <td>...</td>\n",
       "      <td>...</td>\n",
       "      <td>...</td>\n",
       "      <td>...</td>\n",
       "      <td>...</td>\n",
       "      <td>...</td>\n",
       "    </tr>\n",
       "    <tr>\n",
       "      <th>1123</th>\n",
       "      <td>halothane</td>\n",
       "      <td>-2.608</td>\n",
       "      <td>1</td>\n",
       "      <td>197.381</td>\n",
       "      <td>0</td>\n",
       "      <td>0</td>\n",
       "      <td>0</td>\n",
       "      <td>0.00</td>\n",
       "      <td>-1.710</td>\n",
       "      <td>FC(F)(F)C(Cl)Br</td>\n",
       "      <td>FC(F)(F)C(Cl)Br</td>\n",
       "      <td>BCQZXOMGPXTTIC-UHFFFAOYSA-N</td>\n",
       "      <td>BCQZXOMGPXTTIC-UHFFFAOYSA-N</td>\n",
       "    </tr>\n",
       "    <tr>\n",
       "      <th>1124</th>\n",
       "      <td>Oxamyl</td>\n",
       "      <td>-0.908</td>\n",
       "      <td>1</td>\n",
       "      <td>219.266</td>\n",
       "      <td>1</td>\n",
       "      <td>0</td>\n",
       "      <td>1</td>\n",
       "      <td>71.00</td>\n",
       "      <td>0.106</td>\n",
       "      <td>CNC(=O)ON=C(SC)C(=O)N(C)C</td>\n",
       "      <td>CNC(=O)ON=C(SC)C(=O)N(C)C</td>\n",
       "      <td>KZAUOCCYDRDERY-UHFFFAOYSA-N</td>\n",
       "      <td>KZAUOCCYDRDERY-UHFFFAOYSA-N</td>\n",
       "    </tr>\n",
       "    <tr>\n",
       "      <th>1125</th>\n",
       "      <td>Thiometon</td>\n",
       "      <td>-3.323</td>\n",
       "      <td>1</td>\n",
       "      <td>246.359</td>\n",
       "      <td>0</td>\n",
       "      <td>0</td>\n",
       "      <td>7</td>\n",
       "      <td>18.46</td>\n",
       "      <td>-3.091</td>\n",
       "      <td>CCSCCSP(=S)(OC)OC</td>\n",
       "      <td>CCSCCSP(=S)(OC)OC</td>\n",
       "      <td>OPASCBHCTNRLRM-UHFFFAOYSA-N</td>\n",
       "      <td>OPASCBHCTNRLRM-UHFFFAOYSA-N</td>\n",
       "    </tr>\n",
       "    <tr>\n",
       "      <th>1126</th>\n",
       "      <td>2-Methylbutane</td>\n",
       "      <td>-2.245</td>\n",
       "      <td>1</td>\n",
       "      <td>72.151</td>\n",
       "      <td>0</td>\n",
       "      <td>0</td>\n",
       "      <td>1</td>\n",
       "      <td>0.00</td>\n",
       "      <td>-3.180</td>\n",
       "      <td>CCC(C)C</td>\n",
       "      <td>CCC(C)C</td>\n",
       "      <td>QWTDNUCVQCZILF-UHFFFAOYSA-N</td>\n",
       "      <td>QWTDNUCVQCZILF-UHFFFAOYSA-N</td>\n",
       "    </tr>\n",
       "    <tr>\n",
       "      <th>1127</th>\n",
       "      <td>Stirofos</td>\n",
       "      <td>-4.320</td>\n",
       "      <td>1</td>\n",
       "      <td>365.964</td>\n",
       "      <td>0</td>\n",
       "      <td>1</td>\n",
       "      <td>5</td>\n",
       "      <td>44.76</td>\n",
       "      <td>-4.522</td>\n",
       "      <td>COP(=O)(OC)OC(=CCl)c1cc(Cl)c(Cl)cc1Cl</td>\n",
       "      <td>COP(=O)(OC)OC(=CCl)c1cc(Cl)c(Cl)cc1Cl</td>\n",
       "      <td>UBCKGWBNUIFUST-UHFFFAOYSA-N</td>\n",
       "      <td>UBCKGWBNUIFUST-UHFFFAOYSA-N</td>\n",
       "    </tr>\n",
       "  </tbody>\n",
       "</table>\n",
       "<p>1128 rows × 13 columns</p>\n",
       "</div>"
      ],
      "text/plain": [
       "         Compound ID  ESOL predicted log solubility in mols per litre  \\\n",
       "0          Amigdalin                                           -0.974   \n",
       "1           Fenfuram                                           -2.885   \n",
       "2             citral                                           -2.579   \n",
       "3             Picene                                           -6.618   \n",
       "4          Thiophene                                           -2.232   \n",
       "...              ...                                              ...   \n",
       "1123       halothane                                           -2.608   \n",
       "1124          Oxamyl                                           -0.908   \n",
       "1125       Thiometon                                           -3.323   \n",
       "1126  2-Methylbutane                                           -2.245   \n",
       "1127        Stirofos                                           -4.320   \n",
       "\n",
       "      Minimum Degree  Molecular Weight  Number of H-Bond Donors  \\\n",
       "0                  1           457.432                        7   \n",
       "1                  1           201.225                        1   \n",
       "2                  1           152.237                        0   \n",
       "3                  2           278.354                        0   \n",
       "4                  2            84.143                        0   \n",
       "...              ...               ...                      ...   \n",
       "1123               1           197.381                        0   \n",
       "1124               1           219.266                        1   \n",
       "1125               1           246.359                        0   \n",
       "1126               1            72.151                        0   \n",
       "1127               1           365.964                        0   \n",
       "\n",
       "      Number of Rings  Number of Rotatable Bonds  Polar Surface Area  \\\n",
       "0                   3                          7              202.32   \n",
       "1                   2                          2               42.24   \n",
       "2                   0                          4               17.07   \n",
       "3                   5                          0                0.00   \n",
       "4                   1                          0                0.00   \n",
       "...               ...                        ...                 ...   \n",
       "1123                0                          0                0.00   \n",
       "1124                0                          1               71.00   \n",
       "1125                0                          7               18.46   \n",
       "1126                0                          1                0.00   \n",
       "1127                1                          5               44.76   \n",
       "\n",
       "      measured log solubility in mols per litre  \\\n",
       "0                                        -0.770   \n",
       "1                                        -3.300   \n",
       "2                                        -2.060   \n",
       "3                                        -7.870   \n",
       "4                                        -1.330   \n",
       "...                                         ...   \n",
       "1123                                     -1.710   \n",
       "1124                                      0.106   \n",
       "1125                                     -3.091   \n",
       "1126                                     -3.180   \n",
       "1127                                     -4.522   \n",
       "\n",
       "                                                 smiles  \\\n",
       "0     OCC3OC(OCC2OC(OC(C#N)c1ccccc1)C(O)C(O)C2O)C(O)...   \n",
       "1                                Cc1occc1C(=O)Nc2ccccc2   \n",
       "2                                  CC(C)=CCCC(C)=CC(=O)   \n",
       "3                    c1ccc2c(c1)ccc3c2ccc4c5ccccc5ccc43   \n",
       "4                                               c1ccsc1   \n",
       "...                                                 ...   \n",
       "1123                                   FC(F)(F)C(Cl)Br    \n",
       "1124                          CNC(=O)ON=C(SC)C(=O)N(C)C   \n",
       "1125                                  CCSCCSP(=S)(OC)OC   \n",
       "1126                                            CCC(C)C   \n",
       "1127              COP(=O)(OC)OC(=CCl)c1cc(Cl)c(Cl)cc1Cl   \n",
       "\n",
       "                                           rdkit_smiles  \\\n",
       "0     N#CC(OC1OC(COC2OC(CO)C(O)C(O)C2O)C(O)C(O)C1O)c...   \n",
       "1                                Cc1occc1C(=O)Nc1ccccc1   \n",
       "2                                    CC(C)=CCCC(C)=CC=O   \n",
       "3                    c1ccc2c(c1)ccc1c2ccc2c3ccccc3ccc21   \n",
       "4                                               c1ccsc1   \n",
       "...                                                 ...   \n",
       "1123                                    FC(F)(F)C(Cl)Br   \n",
       "1124                          CNC(=O)ON=C(SC)C(=O)N(C)C   \n",
       "1125                                  CCSCCSP(=S)(OC)OC   \n",
       "1126                                            CCC(C)C   \n",
       "1127              COP(=O)(OC)OC(=CCl)c1cc(Cl)c(Cl)cc1Cl   \n",
       "\n",
       "                        inchi_key                  compound_id  \n",
       "0     XUCIJNAGGSZNQT-UHFFFAOYSA-N  XUCIJNAGGSZNQT-UHFFFAOYSA-N  \n",
       "1     JFSPBVWPKOEZCB-UHFFFAOYSA-N  JFSPBVWPKOEZCB-UHFFFAOYSA-N  \n",
       "2     WTEVQBCEXWBHNA-UHFFFAOYSA-N  WTEVQBCEXWBHNA-UHFFFAOYSA-N  \n",
       "3     GBROPGWFBFCKAG-UHFFFAOYSA-N  GBROPGWFBFCKAG-UHFFFAOYSA-N  \n",
       "4     YTPLMLYBLZKORZ-UHFFFAOYSA-N  YTPLMLYBLZKORZ-UHFFFAOYSA-N  \n",
       "...                           ...                          ...  \n",
       "1123  BCQZXOMGPXTTIC-UHFFFAOYSA-N  BCQZXOMGPXTTIC-UHFFFAOYSA-N  \n",
       "1124  KZAUOCCYDRDERY-UHFFFAOYSA-N  KZAUOCCYDRDERY-UHFFFAOYSA-N  \n",
       "1125  OPASCBHCTNRLRM-UHFFFAOYSA-N  OPASCBHCTNRLRM-UHFFFAOYSA-N  \n",
       "1126  QWTDNUCVQCZILF-UHFFFAOYSA-N  QWTDNUCVQCZILF-UHFFFAOYSA-N  \n",
       "1127  UBCKGWBNUIFUST-UHFFFAOYSA-N  UBCKGWBNUIFUST-UHFFFAOYSA-N  \n",
       "\n",
       "[1128 rows x 13 columns]"
      ]
     },
     "execution_count": 19,
     "metadata": {},
     "output_type": "execute_result"
    }
   ],
   "source": [
    "data"
   ]
  },
  {
   "cell_type": "code",
   "execution_count": 20,
   "metadata": {
    "id": "26UUu-vzTTMs"
   },
   "outputs": [],
   "source": [
    "# del_features = ['VALUE_NUM_mean', 'VALUE_NUM_std', 'Perc_Var', 'Remove_BadDuplicate']\n",
    "# data.drop(labels=del_features, axis=1, inplace=True)"
   ]
  },
  {
   "cell_type": "code",
   "execution_count": 21,
   "metadata": {
    "colab": {
     "base_uri": "https://localhost:8080/"
    },
    "id": "5ABo-cymSmMJ",
    "outputId": "165ea941-2ee2-48b4-8168-ad9a5592ec56"
   },
   "outputs": [
    {
     "name": "stdout",
     "output_type": "stream",
     "text": [
      "Bad duplicates removed from dataset\n",
      "Dataframe size (1128, 17)\n",
      "List of 'bad' duplicates removed\n",
      "Empty DataFrame\n",
      "Columns: [compound_id, measured log solubility in mols per litre, VALUE_NUM_mean, Perc_Var, VALUE_NUM_std]\n",
      "Index: []\n",
      "\n",
      "Dataset de-duplicated\n",
      "Dataframe size (1117, 17)\n",
      "New column created with averaged values:  VALUE_NUM_mean\n"
     ]
    }
   ],
   "source": [
    "# column: Response values column\n",
    "column = 'measured log solubility in mols per litre'\n",
    "\n",
    "# tolerance: Percentage of individual respsonse values allowed to be different \n",
    "# from the average to be included in averaging\n",
    "tolerance = 10\n",
    "\n",
    "# list_bad_duplicates: Print structures with bad duplicates\n",
    "list_bad_duplicates = 'Yes'\n",
    "\n",
    "# max_std: Maximum allowed standard deviation for computed average response value\n",
    "# NOTE: In this example, we set this value very high to disable this feature\n",
    "max_std = 100000\n",
    "\n",
    "# compound_id: Compound ID column\n",
    "compound_id = 'compound_id'\n",
    "\n",
    "# smiles_col: SMILES column\n",
    "smiles_col = 'rdkit_smiles'\n",
    "\n",
    "# call the method `average_and_remove_duplicates` which changes the data and returns\n",
    "# the new object as curated_df, in this case\n",
    " \n",
    "\n",
    "curated_df = curate_data.average_and_remove_duplicates(column, \n",
    "                                                       tolerance, \n",
    "                                                       list_bad_duplicates, \n",
    "                                                       data, \n",
    "                                                       max_std, \n",
    "                                                       compound_id=compound_id, \n",
    "                                                       smiles_col=smiles_col)"
   ]
  },
  {
   "cell_type": "code",
   "execution_count": 22,
   "metadata": {
    "colab": {
     "base_uri": "https://localhost:8080/",
     "height": 302
    },
    "id": "tlV94ETHTZDP",
    "outputId": "e5ac0dbd-7889-4ed7-c0e2-d25a35d388ee"
   },
   "outputs": [
    {
     "data": {
      "text/html": [
       "<div>\n",
       "<style scoped>\n",
       "    .dataframe tbody tr th:only-of-type {\n",
       "        vertical-align: middle;\n",
       "    }\n",
       "\n",
       "    .dataframe tbody tr th {\n",
       "        vertical-align: top;\n",
       "    }\n",
       "\n",
       "    .dataframe thead th {\n",
       "        text-align: right;\n",
       "    }\n",
       "</style>\n",
       "<table border=\"1\" class=\"dataframe\">\n",
       "  <thead>\n",
       "    <tr style=\"text-align: right;\">\n",
       "      <th></th>\n",
       "      <th>Compound ID</th>\n",
       "      <th>ESOL predicted log solubility in mols per litre</th>\n",
       "      <th>Minimum Degree</th>\n",
       "      <th>Molecular Weight</th>\n",
       "      <th>Number of H-Bond Donors</th>\n",
       "      <th>Number of Rings</th>\n",
       "      <th>Number of Rotatable Bonds</th>\n",
       "      <th>Polar Surface Area</th>\n",
       "      <th>measured log solubility in mols per litre</th>\n",
       "      <th>smiles</th>\n",
       "      <th>rdkit_smiles</th>\n",
       "      <th>inchi_key</th>\n",
       "      <th>compound_id</th>\n",
       "    </tr>\n",
       "  </thead>\n",
       "  <tbody>\n",
       "    <tr>\n",
       "      <th>0</th>\n",
       "      <td>Amigdalin</td>\n",
       "      <td>-0.974</td>\n",
       "      <td>1</td>\n",
       "      <td>457.432</td>\n",
       "      <td>7</td>\n",
       "      <td>3</td>\n",
       "      <td>7</td>\n",
       "      <td>202.32</td>\n",
       "      <td>-0.77</td>\n",
       "      <td>OCC3OC(OCC2OC(OC(C#N)c1ccccc1)C(O)C(O)C2O)C(O)...</td>\n",
       "      <td>N#CC(OC1OC(COC2OC(CO)C(O)C(O)C2O)C(O)C(O)C1O)c...</td>\n",
       "      <td>XUCIJNAGGSZNQT-UHFFFAOYSA-N</td>\n",
       "      <td>XUCIJNAGGSZNQT-UHFFFAOYSA-N</td>\n",
       "    </tr>\n",
       "    <tr>\n",
       "      <th>1</th>\n",
       "      <td>Fenfuram</td>\n",
       "      <td>-2.885</td>\n",
       "      <td>1</td>\n",
       "      <td>201.225</td>\n",
       "      <td>1</td>\n",
       "      <td>2</td>\n",
       "      <td>2</td>\n",
       "      <td>42.24</td>\n",
       "      <td>-3.30</td>\n",
       "      <td>Cc1occc1C(=O)Nc2ccccc2</td>\n",
       "      <td>Cc1occc1C(=O)Nc1ccccc1</td>\n",
       "      <td>JFSPBVWPKOEZCB-UHFFFAOYSA-N</td>\n",
       "      <td>JFSPBVWPKOEZCB-UHFFFAOYSA-N</td>\n",
       "    </tr>\n",
       "    <tr>\n",
       "      <th>2</th>\n",
       "      <td>citral</td>\n",
       "      <td>-2.579</td>\n",
       "      <td>1</td>\n",
       "      <td>152.237</td>\n",
       "      <td>0</td>\n",
       "      <td>0</td>\n",
       "      <td>4</td>\n",
       "      <td>17.07</td>\n",
       "      <td>-2.06</td>\n",
       "      <td>CC(C)=CCCC(C)=CC(=O)</td>\n",
       "      <td>CC(C)=CCCC(C)=CC=O</td>\n",
       "      <td>WTEVQBCEXWBHNA-UHFFFAOYSA-N</td>\n",
       "      <td>WTEVQBCEXWBHNA-UHFFFAOYSA-N</td>\n",
       "    </tr>\n",
       "  </tbody>\n",
       "</table>\n",
       "</div>"
      ],
      "text/plain": [
       "  Compound ID  ESOL predicted log solubility in mols per litre  \\\n",
       "0   Amigdalin                                           -0.974   \n",
       "1    Fenfuram                                           -2.885   \n",
       "2      citral                                           -2.579   \n",
       "\n",
       "   Minimum Degree  Molecular Weight  Number of H-Bond Donors  Number of Rings  \\\n",
       "0               1           457.432                        7                3   \n",
       "1               1           201.225                        1                2   \n",
       "2               1           152.237                        0                0   \n",
       "\n",
       "   Number of Rotatable Bonds  Polar Surface Area  \\\n",
       "0                          7              202.32   \n",
       "1                          2               42.24   \n",
       "2                          4               17.07   \n",
       "\n",
       "   measured log solubility in mols per litre  \\\n",
       "0                                      -0.77   \n",
       "1                                      -3.30   \n",
       "2                                      -2.06   \n",
       "\n",
       "                                              smiles  \\\n",
       "0  OCC3OC(OCC2OC(OC(C#N)c1ccccc1)C(O)C(O)C2O)C(O)...   \n",
       "1                             Cc1occc1C(=O)Nc2ccccc2   \n",
       "2                               CC(C)=CCCC(C)=CC(=O)   \n",
       "\n",
       "                                        rdkit_smiles  \\\n",
       "0  N#CC(OC1OC(COC2OC(CO)C(O)C(O)C2O)C(O)C(O)C1O)c...   \n",
       "1                             Cc1occc1C(=O)Nc1ccccc1   \n",
       "2                                 CC(C)=CCCC(C)=CC=O   \n",
       "\n",
       "                     inchi_key                  compound_id  \n",
       "0  XUCIJNAGGSZNQT-UHFFFAOYSA-N  XUCIJNAGGSZNQT-UHFFFAOYSA-N  \n",
       "1  JFSPBVWPKOEZCB-UHFFFAOYSA-N  JFSPBVWPKOEZCB-UHFFFAOYSA-N  \n",
       "2  WTEVQBCEXWBHNA-UHFFFAOYSA-N  WTEVQBCEXWBHNA-UHFFFAOYSA-N  "
      ]
     },
     "execution_count": 22,
     "metadata": {},
     "output_type": "execute_result"
    }
   ],
   "source": [
    "data.head(3)"
   ]
  },
  {
   "cell_type": "code",
   "execution_count": 23,
   "metadata": {
    "colab": {
     "base_uri": "https://localhost:8080/",
     "height": 302
    },
    "id": "Yniwt0vbTg4T",
    "outputId": "e54c9bb1-021a-4e13-de67-e72c190b9a8b"
   },
   "outputs": [
    {
     "data": {
      "text/html": [
       "<div>\n",
       "<style scoped>\n",
       "    .dataframe tbody tr th:only-of-type {\n",
       "        vertical-align: middle;\n",
       "    }\n",
       "\n",
       "    .dataframe tbody tr th {\n",
       "        vertical-align: top;\n",
       "    }\n",
       "\n",
       "    .dataframe thead th {\n",
       "        text-align: right;\n",
       "    }\n",
       "</style>\n",
       "<table border=\"1\" class=\"dataframe\">\n",
       "  <thead>\n",
       "    <tr style=\"text-align: right;\">\n",
       "      <th></th>\n",
       "      <th>Compound ID</th>\n",
       "      <th>ESOL predicted log solubility in mols per litre</th>\n",
       "      <th>Minimum Degree</th>\n",
       "      <th>Molecular Weight</th>\n",
       "      <th>Number of H-Bond Donors</th>\n",
       "      <th>Number of Rings</th>\n",
       "      <th>Number of Rotatable Bonds</th>\n",
       "      <th>Polar Surface Area</th>\n",
       "      <th>measured log solubility in mols per litre</th>\n",
       "      <th>smiles</th>\n",
       "      <th>rdkit_smiles</th>\n",
       "      <th>inchi_key</th>\n",
       "      <th>compound_id</th>\n",
       "      <th>VALUE_NUM_mean</th>\n",
       "      <th>VALUE_NUM_std</th>\n",
       "      <th>Perc_Var</th>\n",
       "      <th>Remove_BadDuplicate</th>\n",
       "    </tr>\n",
       "  </thead>\n",
       "  <tbody>\n",
       "    <tr>\n",
       "      <th>0</th>\n",
       "      <td>Amigdalin</td>\n",
       "      <td>-0.974</td>\n",
       "      <td>1</td>\n",
       "      <td>457.432</td>\n",
       "      <td>7</td>\n",
       "      <td>3</td>\n",
       "      <td>7</td>\n",
       "      <td>202.32</td>\n",
       "      <td>-0.77</td>\n",
       "      <td>OCC3OC(OCC2OC(OC(C#N)c1ccccc1)C(O)C(O)C2O)C(O)...</td>\n",
       "      <td>N#CC(OC1OC(COC2OC(CO)C(O)C(O)C2O)C(O)C(O)C1O)c...</td>\n",
       "      <td>XUCIJNAGGSZNQT-UHFFFAOYSA-N</td>\n",
       "      <td>XUCIJNAGGSZNQT-UHFFFAOYSA-N</td>\n",
       "      <td>-0.77</td>\n",
       "      <td>NaN</td>\n",
       "      <td>-0.0</td>\n",
       "      <td>0</td>\n",
       "    </tr>\n",
       "    <tr>\n",
       "      <th>1</th>\n",
       "      <td>Fenfuram</td>\n",
       "      <td>-2.885</td>\n",
       "      <td>1</td>\n",
       "      <td>201.225</td>\n",
       "      <td>1</td>\n",
       "      <td>2</td>\n",
       "      <td>2</td>\n",
       "      <td>42.24</td>\n",
       "      <td>-3.30</td>\n",
       "      <td>Cc1occc1C(=O)Nc2ccccc2</td>\n",
       "      <td>Cc1occc1C(=O)Nc1ccccc1</td>\n",
       "      <td>JFSPBVWPKOEZCB-UHFFFAOYSA-N</td>\n",
       "      <td>JFSPBVWPKOEZCB-UHFFFAOYSA-N</td>\n",
       "      <td>-3.30</td>\n",
       "      <td>NaN</td>\n",
       "      <td>-0.0</td>\n",
       "      <td>0</td>\n",
       "    </tr>\n",
       "    <tr>\n",
       "      <th>2</th>\n",
       "      <td>citral</td>\n",
       "      <td>-2.579</td>\n",
       "      <td>1</td>\n",
       "      <td>152.237</td>\n",
       "      <td>0</td>\n",
       "      <td>0</td>\n",
       "      <td>4</td>\n",
       "      <td>17.07</td>\n",
       "      <td>-2.06</td>\n",
       "      <td>CC(C)=CCCC(C)=CC(=O)</td>\n",
       "      <td>CC(C)=CCCC(C)=CC=O</td>\n",
       "      <td>WTEVQBCEXWBHNA-UHFFFAOYSA-N</td>\n",
       "      <td>WTEVQBCEXWBHNA-UHFFFAOYSA-N</td>\n",
       "      <td>-2.06</td>\n",
       "      <td>NaN</td>\n",
       "      <td>-0.0</td>\n",
       "      <td>0</td>\n",
       "    </tr>\n",
       "  </tbody>\n",
       "</table>\n",
       "</div>"
      ],
      "text/plain": [
       "  Compound ID  ESOL predicted log solubility in mols per litre  \\\n",
       "0   Amigdalin                                           -0.974   \n",
       "1    Fenfuram                                           -2.885   \n",
       "2      citral                                           -2.579   \n",
       "\n",
       "   Minimum Degree  Molecular Weight  Number of H-Bond Donors  Number of Rings  \\\n",
       "0               1           457.432                        7                3   \n",
       "1               1           201.225                        1                2   \n",
       "2               1           152.237                        0                0   \n",
       "\n",
       "   Number of Rotatable Bonds  Polar Surface Area  \\\n",
       "0                          7              202.32   \n",
       "1                          2               42.24   \n",
       "2                          4               17.07   \n",
       "\n",
       "   measured log solubility in mols per litre  \\\n",
       "0                                      -0.77   \n",
       "1                                      -3.30   \n",
       "2                                      -2.06   \n",
       "\n",
       "                                              smiles  \\\n",
       "0  OCC3OC(OCC2OC(OC(C#N)c1ccccc1)C(O)C(O)C2O)C(O)...   \n",
       "1                             Cc1occc1C(=O)Nc2ccccc2   \n",
       "2                               CC(C)=CCCC(C)=CC(=O)   \n",
       "\n",
       "                                        rdkit_smiles  \\\n",
       "0  N#CC(OC1OC(COC2OC(CO)C(O)C(O)C2O)C(O)C(O)C1O)c...   \n",
       "1                             Cc1occc1C(=O)Nc1ccccc1   \n",
       "2                                 CC(C)=CCCC(C)=CC=O   \n",
       "\n",
       "                     inchi_key                  compound_id  VALUE_NUM_mean  \\\n",
       "0  XUCIJNAGGSZNQT-UHFFFAOYSA-N  XUCIJNAGGSZNQT-UHFFFAOYSA-N           -0.77   \n",
       "1  JFSPBVWPKOEZCB-UHFFFAOYSA-N  JFSPBVWPKOEZCB-UHFFFAOYSA-N           -3.30   \n",
       "2  WTEVQBCEXWBHNA-UHFFFAOYSA-N  WTEVQBCEXWBHNA-UHFFFAOYSA-N           -2.06   \n",
       "\n",
       "   VALUE_NUM_std  Perc_Var  Remove_BadDuplicate  \n",
       "0            NaN      -0.0                    0  \n",
       "1            NaN      -0.0                    0  \n",
       "2            NaN      -0.0                    0  "
      ]
     },
     "execution_count": 23,
     "metadata": {},
     "output_type": "execute_result"
    }
   ],
   "source": [
    "curated_df.head(3)"
   ]
  },
  {
   "cell_type": "code",
   "execution_count": 24,
   "metadata": {},
   "outputs": [
    {
     "name": "stdout",
     "output_type": "stream",
     "text": [
      "/content\n"
     ]
    }
   ],
   "source": [
    "print(os.path.join(working_dir))"
   ]
  },
  {
   "cell_type": "code",
   "execution_count": 25,
   "metadata": {
    "id": "RWD0PTp_Vk3C"
   },
   "outputs": [],
   "source": [
    "curated_file = os.path.join(working_dir, 'delaney_curated.csv')\n",
    "curated_df.to_csv(curated_file, index=False)"
   ]
  },
  {
   "cell_type": "markdown",
   "metadata": {
    "id": "2o98pQ8JVk3G"
   },
   "source": [
    "Now that we have a curated dataset, we decide what type of featurizer and model we would like. See documentation for all available options. We also set the name of the new averaged response value column."
   ]
  },
  {
   "cell_type": "code",
   "execution_count": 45,
   "metadata": {
    "id": "YpzrXMrmVk3H"
   },
   "outputs": [],
   "source": [
    "featurizer = 'ecfp'\n",
    "model_type = 'NN'\n",
    "response_cols = ['VALUE_NUM_mean']\n",
    "feat1 = 5000\n",
    "feat2 = 30\n",
    "feat3 = 200\n",
    "nn_max_epochs = 300\n",
    "nn_learning_rate = 0.01\n",
    "#nn_layer_sizes = 64\n",
    "nn_dropouts = 0.18\n"
   ]
  },
  {
   "cell_type": "markdown",
   "metadata": {
    "id": "VJtQSo3UVk3O"
   },
   "source": [
    "Next we set up the parameters for our model. We set datastore and save_results to False to indicate that we are reading the input file and saving the results directly to the file system. There are a wide range of settable parameters; see the documentation for more details."
   ]
  },
  {
   "cell_type": "code",
   "execution_count": 46,
   "metadata": {
    "colab": {
     "base_uri": "https://localhost:8080/",
     "height": 34
    },
    "id": "TH1aGjcKYOMS",
    "outputId": "51dcba34-c9f6-468a-9be8-724c4e556110"
   },
   "outputs": [
    {
     "data": {
      "text/plain": [
       "'rdkit_smiles'"
      ]
     },
     "execution_count": 46,
     "metadata": {},
     "output_type": "execute_result"
    }
   ],
   "source": [
    "smiles_col"
   ]
  },
  {
   "cell_type": "code",
   "execution_count": 47,
   "metadata": {
    "id": "1AagWRZkVk3P"
   },
   "outputs": [],
   "source": [
    "params={\"datastore\": \"False\",\n",
    "        \"save_results\": \"False\",\n",
    "        \"id_col\": compound_id,\n",
    "        \"smiles_col\": smiles_col,\n",
    "        \"response_cols\": response_cols,\n",
    "        \"featurizer\": featurizer,\n",
    "        \"model_type\": model_type,\n",
    "#        \"rf_estimators\": feat1,\n",
    "#        \"rf_max_depth\": feat2,\n",
    "#        \"rf_max_features\": feat3,\n",
    "        \"max_epochs\": nn_max_epochs,\n",
    "        \"learning_rate\": nn_learning_rate,\n",
    "#        \"layer_sizes\": nn_layer_sizes,\n",
    "        \"dropouts\": nn_dropouts,\n",
    "        \"result_dir\": working_dir,\n",
    "        \"dataset_key\": curated_file}"
   ]
  },
  {
   "cell_type": "markdown",
   "metadata": {
    "id": "_2i5syhgVk3T"
   },
   "source": [
    "We use parse.wrapper to process our input configuration. We then build the model pipeline, train the model, and plot the predicted versus true values for our train, valid, test sets."
   ]
  },
  {
   "cell_type": "code",
   "execution_count": 48,
   "metadata": {
    "id": "f8yt7nFjWwKW"
   },
   "outputs": [
    {
     "name": "stderr",
     "output_type": "stream",
     "text": [
      "2022-03-20 12:12:58,849 Created a dataset hash '9853835376556d330765da5c14bf5fce' from dataset_key '/content/delaney_curated.csv'\n"
     ]
    }
   ],
   "source": [
    "pparams = parse.wrapper(params)"
   ]
  },
  {
   "cell_type": "markdown",
   "metadata": {
    "id": "MNxTSotHicIy"
   },
   "source": [
    "## Details of the following code chunk\n",
    " Here we create instances of the class ModelPipeline, called `MP`. The instance `MP` has access to data attributes and methods of the class. "
   ]
  },
  {
   "cell_type": "code",
   "execution_count": 49,
   "metadata": {
    "id": "sGD1DmlkW1eA"
   },
   "outputs": [],
   "source": [
    "MP = mp.ModelPipeline(pparams)"
   ]
  },
  {
   "cell_type": "markdown",
   "metadata": {
    "id": "M3aHIUuyncFo"
   },
   "source": [
    "## Use `dir` function to explore data attributes and functions associated with the class. \n",
    "\n",
    "The output is a list of data object attributes. Note the attributes that are surrounded by double-underscore (ex., `__le__`) are for internal use\n",
    "and you dont have to worry about them. The regular (non underscore attributes) are of your concern. In the example shown below, these attributes start\n",
    "with `'create_model_metadata'`"
   ]
  },
  {
   "cell_type": "code",
   "execution_count": 50,
   "metadata": {
    "id": "B3D4pHf4nXON"
   },
   "outputs": [],
   "source": [
    "# dir(MP)"
   ]
  },
  {
   "cell_type": "markdown",
   "metadata": {
    "id": "9SRAFsWMXwfn"
   },
   "source": [
    "### Train_model:\n",
    "Build model described by self.params on the training dataset described by self.params.Generate predictions for the training, validation, and test datasets, and save the predictions and performance metrics in the model results DB or in a JSON file.\n",
    "\n",
    "## Note `train_model` is a method of class `ModelPipeline`. If you are using COLAB, mouse-over the `MP.train_model()` to view the source code"
   ]
  },
  {
   "cell_type": "code",
   "execution_count": 51,
   "metadata": {
    "colab": {
     "base_uri": "https://localhost:8080/",
     "height": 34
    },
    "id": "lq9CEnyPY1-f",
    "outputId": "bab34a95-11c2-4e5f-8b57-0ebee4e1965b"
   },
   "outputs": [
    {
     "data": {
      "text/plain": [
       "'1.3.0'"
      ]
     },
     "execution_count": 51,
     "metadata": {},
     "output_type": "execute_result"
    }
   ],
   "source": [
    "import atomsci.ddm.pipeline.model_pipeline as mp\n",
    "mp.ampl_version"
   ]
  },
  {
   "cell_type": "code",
   "execution_count": 52,
   "metadata": {
    "colab": {
     "base_uri": "https://localhost:8080/"
    },
    "id": "LGnlXLCyXff9",
    "outputId": "8e70dd10-9ddd-4128-c803-a34a43152be3"
   },
   "outputs": [
    {
     "name": "stderr",
     "output_type": "stream",
     "text": [
      "2022-03-20 12:13:00,331 This method is deprecated and will not be supported in the future\n",
      "2022-03-20 12:13:00,333 ###### AMPL BUILD 3 layer #########3\n",
      "2022-03-20 12:13:00,334 ###### setting layer sizes to 600, 350, 250, 120 #########3\n",
      "2022-03-20 12:13:00,335 ###### past setting layer sizes #########\n",
      "2022-03-20 12:13:00,387 Attempting to load featurized dataset\n",
      "2022-03-20 12:13:00,394 Exception when trying to load featurized data:\n",
      "DynamicFeaturization doesn't support get_featurized_dset_name()\n",
      "2022-03-20 12:13:00,395 Featurized dataset not previously saved for dataset delaney_curated, creating new\n",
      "2022-03-20 12:13:00,404 Featurizing sample 0\n",
      "2022-03-20 12:13:01,537 Featurizing sample 1000\n",
      "2022-03-20 12:13:01,686 Splitting data by scaffold\n"
     ]
    },
    {
     "name": "stdout",
     "output_type": "stream",
     "text": [
      "number of features: 1024\n"
     ]
    },
    {
     "name": "stderr",
     "output_type": "stream",
     "text": [
      "2022-03-20 12:13:01,930 Dataset split table saved to /content/delaney_curated_train_valid_test_scaffold_cc9d7c27-88ab-485a-ab67-39eafbf9d8d0.csv\n",
      "2022-03-20 12:13:01,938 Wrote transformers to /content/delaney_curated/NN_ecfp_scaffold_regression/a6034cd6-af1c-4857-bb40-87cf323f3981/transformers.pkl\n",
      "2022-03-20 12:13:01,939 Transforming response data\n",
      "2022-03-20 12:13:01,953 Transforming response data\n",
      "2022-03-20 12:13:01,961 Transforming response data\n",
      "2022-03-20 12:13:04,963 Total score for epoch 0 is -0.901\n",
      "2022-03-20 12:13:04,979 Epoch 0: training r2_score = -0.115, validation r2_score = -0.901, test r2_score = -0.685\n",
      "2022-03-20 12:13:05,110 *** Total score for epoch 1 is 0.117, is new maximum\n",
      "2022-03-20 12:13:05,118 Epoch 1: training r2_score = 0.622, validation r2_score = 0.117, test r2_score = 0.133\n",
      "2022-03-20 12:13:05,256 *** Total score for epoch 2 is 0.295, is new maximum\n",
      "2022-03-20 12:13:05,267 Epoch 2: training r2_score = 0.778, validation r2_score = 0.295, test r2_score = 0.334\n",
      "2022-03-20 12:13:05,407 *** Total score for epoch 3 is 0.313, is new maximum\n",
      "2022-03-20 12:13:05,420 Epoch 3: training r2_score = 0.850, validation r2_score = 0.313, test r2_score = 0.339\n",
      "2022-03-20 12:13:05,556 *** Total score for epoch 4 is 0.321, is new maximum\n",
      "2022-03-20 12:13:05,565 Epoch 4: training r2_score = 0.874, validation r2_score = 0.321, test r2_score = 0.390\n",
      "2022-03-20 12:13:05,679 Epoch 5: training r2_score = 0.902, validation r2_score = 0.234, test r2_score = 0.287\n",
      "2022-03-20 12:13:05,812 Epoch 6: training r2_score = 0.922, validation r2_score = 0.258, test r2_score = 0.327\n",
      "2022-03-20 12:13:05,950 Epoch 7: training r2_score = 0.929, validation r2_score = 0.221, test r2_score = 0.310\n",
      "2022-03-20 12:13:06,074 Epoch 8: training r2_score = 0.935, validation r2_score = 0.199, test r2_score = 0.284\n",
      "2022-03-20 12:13:06,207 Epoch 9: training r2_score = 0.931, validation r2_score = 0.216, test r2_score = 0.297\n",
      "2022-03-20 12:13:06,341 Epoch 10: training r2_score = 0.934, validation r2_score = 0.219, test r2_score = 0.321\n",
      "2022-03-20 12:13:06,476 Epoch 11: training r2_score = 0.927, validation r2_score = 0.206, test r2_score = 0.344\n",
      "2022-03-20 12:13:06,609 Epoch 12: training r2_score = 0.933, validation r2_score = 0.274, test r2_score = 0.358\n",
      "2022-03-20 12:13:06,726 Epoch 13: training r2_score = 0.936, validation r2_score = 0.246, test r2_score = 0.336\n",
      "2022-03-20 12:13:06,859 Epoch 14: training r2_score = 0.934, validation r2_score = 0.225, test r2_score = 0.324\n",
      "2022-03-20 12:13:06,983 Epoch 15: training r2_score = 0.935, validation r2_score = 0.250, test r2_score = 0.347\n",
      "2022-03-20 12:13:07,118 Epoch 16: training r2_score = 0.917, validation r2_score = 0.210, test r2_score = 0.282\n",
      "2022-03-20 12:13:07,259 Epoch 17: training r2_score = 0.921, validation r2_score = 0.218, test r2_score = 0.305\n",
      "2022-03-20 12:13:07,389 Epoch 18: training r2_score = 0.926, validation r2_score = 0.303, test r2_score = 0.446\n",
      "2022-03-20 12:13:07,538 Epoch 19: training r2_score = 0.941, validation r2_score = 0.255, test r2_score = 0.383\n",
      "2022-03-20 12:13:07,667 Epoch 20: training r2_score = 0.942, validation r2_score = 0.240, test r2_score = 0.390\n",
      "2022-03-20 12:13:07,807 Epoch 21: training r2_score = 0.924, validation r2_score = 0.187, test r2_score = 0.280\n",
      "2022-03-20 12:13:07,926 Epoch 22: training r2_score = 0.939, validation r2_score = 0.251, test r2_score = 0.405\n",
      "2022-03-20 12:13:08,048 Epoch 23: training r2_score = 0.926, validation r2_score = 0.209, test r2_score = 0.353\n",
      "2022-03-20 12:13:08,184 Epoch 24: training r2_score = 0.941, validation r2_score = 0.267, test r2_score = 0.370\n",
      "2022-03-20 12:13:08,319 Epoch 25: training r2_score = 0.934, validation r2_score = 0.308, test r2_score = 0.437\n",
      "2022-03-20 12:13:08,444 Epoch 26: training r2_score = 0.936, validation r2_score = 0.255, test r2_score = 0.323\n",
      "2022-03-20 12:13:08,596 *** Total score for epoch 27 is 0.357, is new maximum\n",
      "2022-03-20 12:13:08,605 Epoch 27: training r2_score = 0.929, validation r2_score = 0.357, test r2_score = 0.444\n",
      "2022-03-20 12:13:08,739 Epoch 28: training r2_score = 0.941, validation r2_score = 0.323, test r2_score = 0.394\n",
      "2022-03-20 12:13:08,883 *** Total score for epoch 29 is 0.378, is new maximum\n",
      "2022-03-20 12:13:08,894 Epoch 29: training r2_score = 0.929, validation r2_score = 0.378, test r2_score = 0.477\n",
      "2022-03-20 12:13:09,027 Epoch 30: training r2_score = 0.939, validation r2_score = 0.310, test r2_score = 0.416\n",
      "2022-03-20 12:13:09,159 Epoch 31: training r2_score = 0.908, validation r2_score = 0.212, test r2_score = 0.342\n",
      "2022-03-20 12:13:09,288 Epoch 32: training r2_score = 0.940, validation r2_score = 0.297, test r2_score = 0.449\n",
      "2022-03-20 12:13:09,415 Epoch 33: training r2_score = 0.944, validation r2_score = 0.316, test r2_score = 0.497\n",
      "2022-03-20 12:13:09,535 Epoch 34: training r2_score = 0.950, validation r2_score = 0.315, test r2_score = 0.439\n",
      "2022-03-20 12:13:09,672 Epoch 35: training r2_score = 0.950, validation r2_score = 0.326, test r2_score = 0.451\n",
      "2022-03-20 12:13:09,806 Epoch 36: training r2_score = 0.918, validation r2_score = 0.282, test r2_score = 0.436\n",
      "2022-03-20 12:13:09,956 Epoch 37: training r2_score = 0.939, validation r2_score = 0.308, test r2_score = 0.465\n",
      "2022-03-20 12:13:10,066 Epoch 38: training r2_score = 0.922, validation r2_score = 0.351, test r2_score = 0.509\n",
      "2022-03-20 12:13:10,184 Epoch 39: training r2_score = 0.938, validation r2_score = 0.325, test r2_score = 0.475\n",
      "2022-03-20 12:13:10,317 *** Total score for epoch 40 is 0.382, is new maximum\n",
      "2022-03-20 12:13:10,325 Epoch 40: training r2_score = 0.914, validation r2_score = 0.382, test r2_score = 0.506\n",
      "2022-03-20 12:13:10,444 Epoch 41: training r2_score = 0.932, validation r2_score = 0.305, test r2_score = 0.425\n",
      "2022-03-20 12:13:10,544 Epoch 42: training r2_score = 0.931, validation r2_score = 0.266, test r2_score = 0.372\n",
      "2022-03-20 12:13:10,661 Epoch 43: training r2_score = 0.938, validation r2_score = 0.342, test r2_score = 0.516\n",
      "2022-03-20 12:13:10,794 Epoch 44: training r2_score = 0.915, validation r2_score = 0.221, test r2_score = 0.368\n",
      "2022-03-20 12:13:10,931 *** Total score for epoch 45 is 0.384, is new maximum\n",
      "2022-03-20 12:13:10,939 Epoch 45: training r2_score = 0.915, validation r2_score = 0.384, test r2_score = 0.490\n",
      "2022-03-20 12:13:11,080 *** Total score for epoch 46 is 0.397, is new maximum\n",
      "2022-03-20 12:13:11,088 Epoch 46: training r2_score = 0.938, validation r2_score = 0.397, test r2_score = 0.506\n",
      "2022-03-20 12:13:11,200 Epoch 47: training r2_score = 0.953, validation r2_score = 0.342, test r2_score = 0.490\n",
      "2022-03-20 12:13:11,326 Epoch 48: training r2_score = 0.946, validation r2_score = 0.304, test r2_score = 0.441\n",
      "2022-03-20 12:13:11,457 Epoch 49: training r2_score = 0.924, validation r2_score = 0.244, test r2_score = 0.380\n",
      "2022-03-20 12:13:11,585 Epoch 50: training r2_score = 0.934, validation r2_score = 0.303, test r2_score = 0.417\n",
      "2022-03-20 12:13:11,717 Epoch 51: training r2_score = 0.933, validation r2_score = 0.376, test r2_score = 0.500\n",
      "2022-03-20 12:13:11,835 Epoch 52: training r2_score = 0.931, validation r2_score = 0.298, test r2_score = 0.406\n",
      "2022-03-20 12:13:11,933 Epoch 53: training r2_score = 0.928, validation r2_score = 0.396, test r2_score = 0.502\n",
      "2022-03-20 12:13:12,069 Epoch 54: training r2_score = 0.941, validation r2_score = 0.392, test r2_score = 0.522\n",
      "2022-03-20 12:13:12,188 Epoch 55: training r2_score = 0.921, validation r2_score = 0.365, test r2_score = 0.467\n",
      "2022-03-20 12:13:12,328 Epoch 56: training r2_score = 0.932, validation r2_score = 0.312, test r2_score = 0.427\n",
      "2022-03-20 12:13:12,449 Epoch 57: training r2_score = 0.931, validation r2_score = 0.377, test r2_score = 0.537\n",
      "2022-03-20 12:13:12,563 Epoch 58: training r2_score = 0.947, validation r2_score = 0.312, test r2_score = 0.454\n",
      "2022-03-20 12:13:12,674 Epoch 59: training r2_score = 0.948, validation r2_score = 0.340, test r2_score = 0.482\n",
      "2022-03-20 12:13:12,784 Epoch 60: training r2_score = 0.945, validation r2_score = 0.326, test r2_score = 0.514\n",
      "2022-03-20 12:13:12,912 Epoch 61: training r2_score = 0.948, validation r2_score = 0.382, test r2_score = 0.501\n",
      "2022-03-20 12:13:13,032 Epoch 62: training r2_score = 0.935, validation r2_score = 0.312, test r2_score = 0.469\n"
     ]
    },
    {
     "name": "stderr",
     "output_type": "stream",
     "text": [
      "2022-03-20 12:13:13,153 Epoch 63: training r2_score = 0.950, validation r2_score = 0.370, test r2_score = 0.478\n",
      "2022-03-20 12:13:13,289 Epoch 64: training r2_score = 0.939, validation r2_score = 0.245, test r2_score = 0.394\n",
      "2022-03-20 12:13:13,430 Epoch 65: training r2_score = 0.949, validation r2_score = 0.349, test r2_score = 0.484\n",
      "2022-03-20 12:13:13,568 Epoch 66: training r2_score = 0.922, validation r2_score = 0.352, test r2_score = 0.562\n",
      "2022-03-20 12:13:13,721 Epoch 67: training r2_score = 0.923, validation r2_score = 0.337, test r2_score = 0.465\n",
      "2022-03-20 12:13:13,842 Epoch 68: training r2_score = 0.942, validation r2_score = 0.364, test r2_score = 0.485\n",
      "2022-03-20 12:13:13,964 Epoch 69: training r2_score = 0.929, validation r2_score = 0.325, test r2_score = 0.417\n",
      "2022-03-20 12:13:14,089 Epoch 70: training r2_score = 0.950, validation r2_score = 0.364, test r2_score = 0.496\n",
      "2022-03-20 12:13:14,223 Epoch 71: training r2_score = 0.941, validation r2_score = 0.220, test r2_score = 0.412\n",
      "2022-03-20 12:13:14,342 Epoch 72: training r2_score = 0.947, validation r2_score = 0.350, test r2_score = 0.496\n",
      "2022-03-20 12:13:14,487 Epoch 73: training r2_score = 0.932, validation r2_score = 0.254, test r2_score = 0.381\n",
      "2022-03-20 12:13:14,615 Epoch 74: training r2_score = 0.940, validation r2_score = 0.316, test r2_score = 0.463\n",
      "2022-03-20 12:13:14,759 Epoch 75: training r2_score = 0.925, validation r2_score = 0.394, test r2_score = 0.505\n",
      "2022-03-20 12:13:14,900 *** Total score for epoch 76 is 0.408, is new maximum\n",
      "2022-03-20 12:13:14,909 Epoch 76: training r2_score = 0.930, validation r2_score = 0.408, test r2_score = 0.535\n",
      "2022-03-20 12:13:15,035 Epoch 77: training r2_score = 0.923, validation r2_score = 0.204, test r2_score = 0.351\n",
      "2022-03-20 12:13:15,172 Epoch 78: training r2_score = 0.942, validation r2_score = 0.334, test r2_score = 0.447\n",
      "2022-03-20 12:13:15,296 Epoch 79: training r2_score = 0.944, validation r2_score = 0.314, test r2_score = 0.446\n",
      "2022-03-20 12:13:15,439 Epoch 80: training r2_score = 0.935, validation r2_score = 0.348, test r2_score = 0.455\n",
      "2022-03-20 12:13:15,555 Epoch 81: training r2_score = 0.946, validation r2_score = 0.374, test r2_score = 0.528\n",
      "2022-03-20 12:13:15,680 Epoch 82: training r2_score = 0.939, validation r2_score = 0.354, test r2_score = 0.539\n",
      "2022-03-20 12:13:15,814 Epoch 83: training r2_score = 0.943, validation r2_score = 0.328, test r2_score = 0.463\n",
      "2022-03-20 12:13:15,956 Epoch 84: training r2_score = 0.937, validation r2_score = 0.382, test r2_score = 0.492\n",
      "2022-03-20 12:13:16,092 Epoch 85: training r2_score = 0.949, validation r2_score = 0.369, test r2_score = 0.496\n",
      "2022-03-20 12:13:16,223 Epoch 86: training r2_score = 0.945, validation r2_score = 0.370, test r2_score = 0.516\n",
      "2022-03-20 12:13:16,350 *** Total score for epoch 87 is 0.408, is new maximum\n",
      "2022-03-20 12:13:16,364 Epoch 87: training r2_score = 0.945, validation r2_score = 0.408, test r2_score = 0.544\n",
      "2022-03-20 12:13:16,481 Epoch 88: training r2_score = 0.926, validation r2_score = 0.407, test r2_score = 0.583\n",
      "2022-03-20 12:13:16,619 *** Total score for epoch 89 is 0.423, is new maximum\n",
      "2022-03-20 12:13:16,627 Epoch 89: training r2_score = 0.933, validation r2_score = 0.423, test r2_score = 0.576\n",
      "2022-03-20 12:13:16,764 Epoch 90: training r2_score = 0.947, validation r2_score = 0.390, test r2_score = 0.518\n",
      "2022-03-20 12:13:16,891 Epoch 91: training r2_score = 0.945, validation r2_score = 0.362, test r2_score = 0.484\n",
      "2022-03-20 12:13:17,013 Epoch 92: training r2_score = 0.948, validation r2_score = 0.305, test r2_score = 0.448\n",
      "2022-03-20 12:13:17,146 Epoch 93: training r2_score = 0.928, validation r2_score = 0.352, test r2_score = 0.480\n",
      "2022-03-20 12:13:17,288 Epoch 94: training r2_score = 0.941, validation r2_score = 0.367, test r2_score = 0.525\n",
      "2022-03-20 12:13:17,406 Epoch 95: training r2_score = 0.930, validation r2_score = 0.328, test r2_score = 0.466\n",
      "2022-03-20 12:13:17,547 Epoch 96: training r2_score = 0.923, validation r2_score = 0.380, test r2_score = 0.491\n",
      "2022-03-20 12:13:17,689 Epoch 97: training r2_score = 0.934, validation r2_score = 0.341, test r2_score = 0.463\n",
      "2022-03-20 12:13:17,816 Epoch 98: training r2_score = 0.940, validation r2_score = 0.315, test r2_score = 0.472\n",
      "2022-03-20 12:13:17,952 Epoch 99: training r2_score = 0.922, validation r2_score = 0.330, test r2_score = 0.440\n",
      "2022-03-20 12:13:18,093 Epoch 100: training r2_score = 0.940, validation r2_score = 0.336, test r2_score = 0.447\n",
      "2022-03-20 12:13:18,224 Epoch 101: training r2_score = 0.946, validation r2_score = 0.315, test r2_score = 0.454\n",
      "2022-03-20 12:13:18,361 Epoch 102: training r2_score = 0.942, validation r2_score = 0.358, test r2_score = 0.528\n",
      "2022-03-20 12:13:18,506 Epoch 103: training r2_score = 0.954, validation r2_score = 0.367, test r2_score = 0.511\n",
      "2022-03-20 12:13:18,650 Epoch 104: training r2_score = 0.950, validation r2_score = 0.399, test r2_score = 0.524\n",
      "2022-03-20 12:13:18,797 Epoch 105: training r2_score = 0.943, validation r2_score = 0.372, test r2_score = 0.542\n",
      "2022-03-20 12:13:18,929 Epoch 106: training r2_score = 0.931, validation r2_score = 0.236, test r2_score = 0.376\n",
      "2022-03-20 12:13:19,077 Epoch 107: training r2_score = 0.944, validation r2_score = 0.374, test r2_score = 0.551\n",
      "2022-03-20 12:13:19,221 Epoch 108: training r2_score = 0.919, validation r2_score = 0.362, test r2_score = 0.463\n",
      "2022-03-20 12:13:19,364 Epoch 109: training r2_score = 0.951, validation r2_score = 0.392, test r2_score = 0.518\n",
      "2022-03-20 12:13:19,508 Epoch 110: training r2_score = 0.908, validation r2_score = 0.389, test r2_score = 0.532\n",
      "2022-03-20 12:13:19,647 Epoch 111: training r2_score = 0.931, validation r2_score = 0.350, test r2_score = 0.462\n",
      "2022-03-20 12:13:19,798 Epoch 112: training r2_score = 0.943, validation r2_score = 0.341, test r2_score = 0.448\n",
      "2022-03-20 12:13:19,937 Epoch 113: training r2_score = 0.948, validation r2_score = 0.390, test r2_score = 0.480\n",
      "2022-03-20 12:13:20,074 Epoch 114: training r2_score = 0.938, validation r2_score = 0.279, test r2_score = 0.392\n",
      "2022-03-20 12:13:20,206 Epoch 115: training r2_score = 0.931, validation r2_score = 0.379, test r2_score = 0.460\n",
      "2022-03-20 12:13:20,356 *** Total score for epoch 116 is 0.438, is new maximum\n",
      "2022-03-20 12:13:20,366 Epoch 116: training r2_score = 0.930, validation r2_score = 0.438, test r2_score = 0.573\n",
      "2022-03-20 12:13:20,498 Epoch 117: training r2_score = 0.947, validation r2_score = 0.374, test r2_score = 0.501\n",
      "2022-03-20 12:13:20,637 Epoch 118: training r2_score = 0.947, validation r2_score = 0.369, test r2_score = 0.505\n",
      "2022-03-20 12:13:20,792 Epoch 119: training r2_score = 0.950, validation r2_score = 0.349, test r2_score = 0.417\n",
      "2022-03-20 12:13:20,933 Epoch 120: training r2_score = 0.935, validation r2_score = 0.322, test r2_score = 0.452\n",
      "2022-03-20 12:13:21,076 Epoch 121: training r2_score = 0.926, validation r2_score = 0.271, test r2_score = 0.374\n",
      "2022-03-20 12:13:21,214 Epoch 122: training r2_score = 0.941, validation r2_score = 0.393, test r2_score = 0.526\n",
      "2022-03-20 12:13:21,353 Epoch 123: training r2_score = 0.949, validation r2_score = 0.331, test r2_score = 0.468\n",
      "2022-03-20 12:13:21,498 Epoch 124: training r2_score = 0.947, validation r2_score = 0.370, test r2_score = 0.439\n",
      "2022-03-20 12:13:21,633 Epoch 125: training r2_score = 0.936, validation r2_score = 0.359, test r2_score = 0.458\n",
      "2022-03-20 12:13:21,777 Epoch 126: training r2_score = 0.938, validation r2_score = 0.252, test r2_score = 0.374\n",
      "2022-03-20 12:13:21,916 Epoch 127: training r2_score = 0.945, validation r2_score = 0.432, test r2_score = 0.531\n",
      "2022-03-20 12:13:22,054 Epoch 128: training r2_score = 0.953, validation r2_score = 0.404, test r2_score = 0.517\n",
      "2022-03-20 12:13:22,191 Epoch 129: training r2_score = 0.943, validation r2_score = 0.352, test r2_score = 0.449\n",
      "2022-03-20 12:13:22,323 Epoch 130: training r2_score = 0.946, validation r2_score = 0.376, test r2_score = 0.514\n",
      "2022-03-20 12:13:22,461 Epoch 131: training r2_score = 0.940, validation r2_score = 0.377, test r2_score = 0.434\n",
      "2022-03-20 12:13:22,601 Epoch 132: training r2_score = 0.943, validation r2_score = 0.403, test r2_score = 0.510\n",
      "2022-03-20 12:13:22,746 Epoch 133: training r2_score = 0.947, validation r2_score = 0.345, test r2_score = 0.474\n"
     ]
    },
    {
     "name": "stderr",
     "output_type": "stream",
     "text": [
      "2022-03-20 12:13:22,877 Epoch 134: training r2_score = 0.943, validation r2_score = 0.329, test r2_score = 0.442\n",
      "2022-03-20 12:13:23,000 Epoch 135: training r2_score = 0.939, validation r2_score = 0.367, test r2_score = 0.504\n",
      "2022-03-20 12:13:23,140 Epoch 136: training r2_score = 0.951, validation r2_score = 0.346, test r2_score = 0.434\n",
      "2022-03-20 12:13:23,278 Epoch 137: training r2_score = 0.947, validation r2_score = 0.323, test r2_score = 0.398\n",
      "2022-03-20 12:13:23,416 Epoch 138: training r2_score = 0.935, validation r2_score = 0.350, test r2_score = 0.474\n",
      "2022-03-20 12:13:23,566 Epoch 139: training r2_score = 0.946, validation r2_score = 0.354, test r2_score = 0.442\n",
      "2022-03-20 12:13:23,698 Epoch 140: training r2_score = 0.940, validation r2_score = 0.315, test r2_score = 0.405\n",
      "2022-03-20 12:13:23,845 Epoch 141: training r2_score = 0.952, validation r2_score = 0.332, test r2_score = 0.450\n",
      "2022-03-20 12:13:23,993 Epoch 142: training r2_score = 0.948, validation r2_score = 0.346, test r2_score = 0.487\n",
      "2022-03-20 12:13:24,123 Epoch 143: training r2_score = 0.948, validation r2_score = 0.369, test r2_score = 0.477\n",
      "2022-03-20 12:13:24,259 Epoch 144: training r2_score = 0.950, validation r2_score = 0.352, test r2_score = 0.451\n",
      "2022-03-20 12:13:24,405 Epoch 145: training r2_score = 0.951, validation r2_score = 0.435, test r2_score = 0.508\n",
      "2022-03-20 12:13:24,554 Epoch 146: training r2_score = 0.919, validation r2_score = 0.279, test r2_score = 0.381\n",
      "2022-03-20 12:13:24,689 No improvement after 30 epochs, stopping training\n",
      "2022-03-20 12:13:24,701 Epoch 147: training r2_score = 0.948, validation r2_score = 0.367, test r2_score = 0.478\n",
      "2022-03-20 12:13:24,741 Saved model files to '/content/delaney_curated/NN_ecfp_scaffold_regression/a6034cd6-af1c-4857-bb40-87cf323f3981/best_model'\n",
      "2022-03-20 12:13:24,742 Best model from epoch 116 saved to /content/delaney_curated/NN_ecfp_scaffold_regression/a6034cd6-af1c-4857-bb40-87cf323f3981/best_model\n",
      "2022-03-20 12:13:24,934 Wrote model tarball to /content/delaney_curated_model_a6034cd6-af1c-4857-bb40-87cf323f3981.tar.gz\n"
     ]
    }
   ],
   "source": [
    "MP.train_model()"
   ]
  },
  {
   "cell_type": "code",
   "execution_count": 35,
   "metadata": {
    "colab": {
     "base_uri": "https://localhost:8080/",
     "height": 1000
    },
    "id": "CMb8j-6NVk3T",
    "outputId": "37708ead-60f1-4922-c024-26ada9ca9a3c"
   },
   "outputs": [
    {
     "data": {
      "image/png": "[encoded data removed]",
      "text/plain": [
       "<Figure size 864x864 with 1 Axes>"
      ]
     },
     "metadata": {
      "needs_background": "light"
     },
     "output_type": "display_data"
    },
    {
     "data": {
      "image/png": "[encoded data removed]",
      "text/plain": [
       "<Figure size 864x864 with 1 Axes>"
      ]
     },
     "metadata": {
      "needs_background": "light"
     },
     "output_type": "display_data"
    },
    {
     "data": {
      "image/png": "[encoded data removed]",
      "text/plain": [
       "<Figure size 864x864 with 1 Axes>"
      ]
     },
     "metadata": {
      "needs_background": "light"
     },
     "output_type": "display_data"
    }
   ],
   "source": [
    "\n",
    "\n",
    "pp.plot_pred_vs_actual(MP)"
   ]
  },
  {
   "cell_type": "code",
   "execution_count": 36,
   "metadata": {},
   "outputs": [
    {
     "data": {
      "image/png": "[encoded data removed]",
      "text/plain": [
       "<Figure size 720x720 with 1 Axes>"
      ]
     },
     "metadata": {
      "needs_background": "light"
     },
     "output_type": "display_data"
    },
    {
     "data": {
      "image/png": "[encoded data removed]",
      "text/plain": [
       "<Figure size 720x720 with 1 Axes>"
      ]
     },
     "metadata": {
      "needs_background": "light"
     },
     "output_type": "display_data"
    }
   ],
   "source": [
    "pp.plot_perf_vs_epoch(MP)"
   ]
  },
  {
   "cell_type": "code",
   "execution_count": 36,
   "metadata": {},
   "outputs": [
    {
     "ename": "AttributeError",
     "evalue": "module 'umap' has no attribute 'UMAP'",
     "output_type": "error",
     "traceback": [
      "\u001b[0;31m---------------------------------------------------------------------------\u001b[0m",
      "\u001b[0;31mAttributeError\u001b[0m                            Traceback (most recent call last)",
      "\u001b[0;32m<ipython-input-36-15d0213d9528>\u001b[0m in \u001b[0;36m<module>\u001b[0;34m\u001b[0m\n\u001b[0;32m----> 1\u001b[0;31m \u001b[0mpp\u001b[0m\u001b[0;34m.\u001b[0m\u001b[0mplot_umap_feature_projections\u001b[0m\u001b[0;34m(\u001b[0m\u001b[0mMP\u001b[0m\u001b[0;34m)\u001b[0m\u001b[0;34m\u001b[0m\u001b[0;34m\u001b[0m\u001b[0m\n\u001b[0m",
      "\u001b[0;32m~/anaconda3/envs/atomsci/lib/python3.7/site-packages/atomsci/ddm/pipeline/perf_plots.py\u001b[0m in \u001b[0;36mplot_umap_feature_projections\u001b[0;34m(MP, ndim, num_neighbors, min_dist, fit_to_train, dist_metric, dist_metric_kwds, target_weight, random_seed, pdf_dir)\u001b[0m\n\u001b[1;32m    520\u001b[0m \u001b[0;34m\u001b[0m\u001b[0m\n\u001b[1;32m    521\u001b[0m     \u001b[0;32mfor\u001b[0m \u001b[0mi\u001b[0m \u001b[0;32min\u001b[0m \u001b[0mrange\u001b[0m\u001b[0;34m(\u001b[0m\u001b[0mntasks\u001b[0m\u001b[0;34m)\u001b[0m\u001b[0;34m:\u001b[0m\u001b[0;34m\u001b[0m\u001b[0;34m\u001b[0m\u001b[0m\n\u001b[0;32m--> 522\u001b[0;31m         mapper = umap.UMAP(n_neighbors=num_neighbors, n_components=ndim, metric=dist_metric, target_metric=target_metric,\n\u001b[0m\u001b[1;32m    523\u001b[0m                            metric_kwds=dist_metric_kwds, target_weight=target_weight, random_state=random_seed)\n\u001b[1;32m    524\u001b[0m         \u001b[0;31m# Ideally, the mapper should be fit to the training data only, and then applied to the validation and test sets\u001b[0m\u001b[0;34m\u001b[0m\u001b[0;34m\u001b[0m\u001b[0;34m\u001b[0m\u001b[0m\n",
      "\u001b[0;31mAttributeError\u001b[0m: module 'umap' has no attribute 'UMAP'"
     ]
    }
   ],
   "source": [
    "pp.plot_umap_feature_projections(MP)"
   ]
  },
  {
   "cell_type": "code",
   "execution_count": null,
   "metadata": {},
   "outputs": [],
   "source": []
  },
  {
   "cell_type": "code",
   "execution_count": null,
   "metadata": {},
   "outputs": [],
   "source": []
  },
  {
   "cell_type": "code",
   "execution_count": null,
   "metadata": {},
   "outputs": [],
   "source": []
  },
  {
   "cell_type": "code",
   "execution_count": null,
   "metadata": {
    "colab": {
     "base_uri": "https://localhost:8080/"
    },
    "id": "7OSh60dtNVbc",
    "outputId": "2850183f-7170-45d3-de0c-11d1f6fb3621"
   },
   "outputs": [],
   "source": [
    "pparams\n",
    "# MP.train_model()"
   ]
  },
  {
   "cell_type": "code",
   "execution_count": null,
   "metadata": {},
   "outputs": [],
   "source": []
  },
  {
   "cell_type": "code",
   "execution_count": null,
   "metadata": {
    "colab": {
     "base_uri": "https://localhost:8080/"
    },
    "id": "BcUlli2L_TbR",
    "outputId": "8836cbb7-6528-4c2f-d77b-b9629820e56e"
   },
   "outputs": [],
   "source": [
    "!date"
   ]
  },
  {
   "cell_type": "code",
   "execution_count": null,
   "metadata": {
    "id": "X35qLxgVzuN2"
   },
   "outputs": [],
   "source": []
  },
  {
   "cell_type": "code",
   "execution_count": null,
   "metadata": {
    "id": "YpzrXMrmVk3H"
   },
   "outputs": [],
   "source": [
    "featurizer = 'ecfp'\n",
    "model_type = 'RF'\n",
    "response_cols = ['VALUE_NUM_mean']\n",
    "rf_estimators = 1000\n",
    "rf_max_depth = 32\n",
    "rf_max_features = 64\n",
    "nn_max_epochs = 300\n",
    "nn_learning_rate = 0.01\n",
    "nn_layer_sizes = 64\n",
    "nn_dropouts = 0.5\n"
   ]
  },
  {
   "cell_type": "markdown",
   "metadata": {
    "id": "VJtQSo3UVk3O"
   },
   "source": [
    "Next we set up the parameters for our model. We set datastore and save_results to False to indicate that we are reading the input file and saving the results directly to the file system. There are a wide range of settable parameters; see the documentation for more details."
   ]
  },
  {
   "cell_type": "code",
   "execution_count": null,
   "metadata": {
    "colab": {
     "base_uri": "https://localhost:8080/",
     "height": 34
    },
    "id": "TH1aGjcKYOMS",
    "outputId": "51dcba34-c9f6-468a-9be8-724c4e556110"
   },
   "outputs": [],
   "source": [
    "smiles_col"
   ]
  },
  {
   "cell_type": "code",
   "execution_count": null,
   "metadata": {
    "id": "1AagWRZkVk3P"
   },
   "outputs": [],
   "source": [
    "params={\"datastore\": \"False\",\n",
    "        \"save_results\": \"False\",\n",
    "        \"id_col\": compound_id,\n",
    "        \"smiles_col\": smiles_col,\n",
    "        \"response_cols\": response_cols,\n",
    "        \"featurizer\": featurizer,\n",
    "        \"model_type\": model_type,\n",
    "        \"rf_estimators\": rf_estimators,\n",
    "        \"rf_max_depth\": rf_max_depth,\n",
    "        \"rf_max_features\": rf_max_features,\n",
    "#        \"max_epochs\": nn_max_epochs,\n",
    "#        \"learning_rate\": nn_learning_rate,\n",
    "#        \"layer_sizes\": nn_layer_sizes,\n",
    "#        \"dropouts\": nn_dropouts,\n",
    "        \"result_dir\": working_dir,\n",
    "        \"dataset_key\": curated_file}"
   ]
  },
  {
   "cell_type": "markdown",
   "metadata": {
    "id": "_2i5syhgVk3T"
   },
   "source": [
    "We use parse.wrapper to process our input configuration. We then build the model pipeline, train the model, and plot the predicted versus true values for our train, valid, test sets."
   ]
  },
  {
   "cell_type": "code",
   "execution_count": null,
   "metadata": {
    "id": "f8yt7nFjWwKW"
   },
   "outputs": [],
   "source": [
    "pparams = parse.wrapper(params)"
   ]
  },
  {
   "cell_type": "markdown",
   "metadata": {
    "id": "MNxTSotHicIy"
   },
   "source": [
    "## Details of the following code chunk\n",
    " Here we create instances of the class ModelPipeline, called `MP`. The instance `MP` has access to data attributes and methods of the class. "
   ]
  },
  {
   "cell_type": "code",
   "execution_count": null,
   "metadata": {
    "id": "sGD1DmlkW1eA"
   },
   "outputs": [],
   "source": [
    "MP = mp.ModelPipeline(pparams)"
   ]
  },
  {
   "cell_type": "markdown",
   "metadata": {
    "id": "M3aHIUuyncFo"
   },
   "source": [
    "## Use `dir` function to explore data attributes and functions associated with the class. \n",
    "\n",
    "The output is a list of data object attributes. Note the attributes that are surrounded by double-underscore (ex., `__le__`) are for internal use\n",
    "and you dont have to worry about them. The regular (non underscore attributes) are of your concern. In the example shown below, these attributes start\n",
    "with `'create_model_metadata'`"
   ]
  },
  {
   "cell_type": "code",
   "execution_count": null,
   "metadata": {
    "id": "B3D4pHf4nXON"
   },
   "outputs": [],
   "source": [
    "#dir(MP)"
   ]
  },
  {
   "cell_type": "markdown",
   "metadata": {
    "id": "9SRAFsWMXwfn"
   },
   "source": [
    "### Train_model:\n",
    "Build model described by self.params on the training dataset described by self.params.Generate predictions for the training, validation, and test datasets, and save the predictions and performance metrics in the model results DB or in a JSON file.\n",
    "\n",
    "## Note `train_model` is a method of class `ModelPipeline`. If you are using COLAB, mouse-over the `MP.train_model()` to view the source code"
   ]
  },
  {
   "cell_type": "code",
   "execution_count": null,
   "metadata": {
    "colab": {
     "base_uri": "https://localhost:8080/",
     "height": 34
    },
    "id": "lq9CEnyPY1-f",
    "outputId": "bab34a95-11c2-4e5f-8b57-0ebee4e1965b"
   },
   "outputs": [],
   "source": [
    "import atomsci.ddm.pipeline.model_pipeline as mp\n",
    "mp.ampl_version"
   ]
  },
  {
   "cell_type": "code",
   "execution_count": null,
   "metadata": {
    "colab": {
     "base_uri": "https://localhost:8080/"
    },
    "id": "LGnlXLCyXff9",
    "outputId": "8e70dd10-9ddd-4128-c803-a34a43152be3"
   },
   "outputs": [],
   "source": [
    "model=MP.train_model()"
   ]
  },
  {
   "cell_type": "code",
   "execution_count": null,
   "metadata": {
    "colab": {
     "base_uri": "https://localhost:8080/",
     "height": 1000
    },
    "id": "CMb8j-6NVk3T",
    "outputId": "37708ead-60f1-4922-c024-26ada9ca9a3c"
   },
   "outputs": [],
   "source": [
    "pp.plot_pred_vs_actual(MP)"
   ]
  },
  {
   "cell_type": "code",
   "execution_count": null,
   "metadata": {},
   "outputs": [],
   "source": [
    "pparams"
   ]
  },
  {
   "cell_type": "code",
   "execution_count": null,
   "metadata": {},
   "outputs": [],
   "source": [
    "# pp.plot_umap_feature_projections(MP)"
   ]
  },
  {
   "cell_type": "code",
   "execution_count": null,
   "metadata": {},
   "outputs": [],
   "source": []
  },
  {
   "cell_type": "code",
   "execution_count": null,
   "metadata": {},
   "outputs": [],
   "source": []
  },
  {
   "cell_type": "code",
   "execution_count": null,
   "metadata": {
    "scrolled": false
   },
   "outputs": [],
   "source": [
    "model = MP.model_wrapper.reload_model(\"/content/delaney_curated/RF_ecfp_scaffold_regression/e06b38a2-1317-4310-9697-474a53d88f32/best_model\")"
   ]
  },
  {
   "cell_type": "code",
   "execution_count": null,
   "metadata": {},
   "outputs": [],
   "source": [
    "import shap\n",
    "\n",
    "# explain the model's predictions using SHAP\n",
    "# (same syntax works for LightGBM, CatBoost, scikit-learn, transformers, Spark, etc.)\n",
    "explainer = shap.Explainer(model)\n",
    "shap_values = explainer(X)\n",
    "\n",
    "# visualize the first prediction's explanation\n",
    "shap.plots.waterfall(shap_values[0])\n"
   ]
  },
  {
   "cell_type": "code",
   "execution_count": null,
   "metadata": {},
   "outputs": [],
   "source": [
    "!date"
   ]
  },
  {
   "cell_type": "code",
   "execution_count": null,
   "metadata": {},
   "outputs": [],
   "source": []
  },
  {
   "cell_type": "code",
   "execution_count": null,
   "metadata": {},
   "outputs": [],
   "source": []
  },
  {
   "cell_type": "code",
   "execution_count": null,
   "metadata": {
    "id": "YpzrXMrmVk3H"
   },
   "outputs": [],
   "source": [
    "featurizer = 'ecfp'\n",
    "model_type = 'xgboost'\n",
    "response_cols = ['VALUE_NUM_mean']\n",
    "xgb_n_estimators = 500\n",
    "xgb_max_depth = 12\n",
    "xgb_learning_rate = 0.01\n",
    "nn_max_epochs = 300\n",
    "nn_learning_rate = 0.01\n",
    "nn_layer_sizes = 64\n",
    "nn_dropouts = 0.5\n"
   ]
  },
  {
   "cell_type": "markdown",
   "metadata": {
    "id": "VJtQSo3UVk3O"
   },
   "source": [
    "Next we set up the parameters for our model. We set datastore and save_results to False to indicate that we are reading the input file and saving the results directly to the file system. There are a wide range of settable parameters; see the documentation for more details."
   ]
  },
  {
   "cell_type": "code",
   "execution_count": null,
   "metadata": {
    "colab": {
     "base_uri": "https://localhost:8080/",
     "height": 34
    },
    "id": "TH1aGjcKYOMS",
    "outputId": "51dcba34-c9f6-468a-9be8-724c4e556110"
   },
   "outputs": [],
   "source": [
    "smiles_col"
   ]
  },
  {
   "cell_type": "code",
   "execution_count": null,
   "metadata": {
    "id": "1AagWRZkVk3P"
   },
   "outputs": [],
   "source": [
    "params={\"datastore\": \"False\",\n",
    "        \"save_results\": \"False\",\n",
    "        \"id_col\": compound_id,\n",
    "        \"smiles_col\": smiles_col,\n",
    "        \"response_cols\": response_cols,\n",
    "        \"featurizer\": featurizer,\n",
    "        \"model_type\": model_type,\n",
    "        \"xgb_n_estimators\": xgb_n_estimators,\n",
    "        \"xgb_max_depth\": xgb_max_depth,\n",
    "        \"xgb_learning_rate\": xgb_learning_rate,\n",
    "#        \"max_epochs\": nn_max_epochs,\n",
    "#        \"learning_rate\": nn_learning_rate,\n",
    "#        \"layer_sizes\": nn_layer_sizes,\n",
    "#        \"dropouts\": nn_dropouts,\n",
    "        \"result_dir\": working_dir,\n",
    "        \"dataset_key\": curated_file}"
   ]
  },
  {
   "cell_type": "markdown",
   "metadata": {
    "id": "_2i5syhgVk3T"
   },
   "source": [
    "We use parse.wrapper to process our input configuration. We then build the model pipeline, train the model, and plot the predicted versus true values for our train, valid, test sets."
   ]
  },
  {
   "cell_type": "code",
   "execution_count": null,
   "metadata": {
    "id": "f8yt7nFjWwKW"
   },
   "outputs": [],
   "source": [
    "pparams = parse.wrapper(params)"
   ]
  },
  {
   "cell_type": "markdown",
   "metadata": {
    "id": "MNxTSotHicIy"
   },
   "source": [
    "## Details of the following code chunk\n",
    " Here we create instances of the class ModelPipeline, called `MP`. The instance `MP` has access to data attributes and methods of the class. "
   ]
  },
  {
   "cell_type": "code",
   "execution_count": null,
   "metadata": {
    "id": "sGD1DmlkW1eA"
   },
   "outputs": [],
   "source": [
    "MP = mp.ModelPipeline(pparams)"
   ]
  },
  {
   "cell_type": "markdown",
   "metadata": {
    "id": "M3aHIUuyncFo"
   },
   "source": [
    "## Use `dir` function to explore data attributes and functions associated with the class. \n",
    "\n",
    "The output is a list of data object attributes. Note the attributes that are surrounded by double-underscore (ex., `__le__`) are for internal use\n",
    "and you dont have to worry about them. The regular (non underscore attributes) are of your concern. In the example shown below, these attributes start\n",
    "with `'create_model_metadata'`"
   ]
  },
  {
   "cell_type": "code",
   "execution_count": null,
   "metadata": {
    "id": "B3D4pHf4nXON"
   },
   "outputs": [],
   "source": [
    "# dir(MP)"
   ]
  },
  {
   "cell_type": "markdown",
   "metadata": {
    "id": "9SRAFsWMXwfn"
   },
   "source": [
    "### Train_model:\n",
    "Build model described by self.params on the training dataset described by self.params.Generate predictions for the training, validation, and test datasets, and save the predictions and performance metrics in the model results DB or in a JSON file.\n",
    "\n",
    "## Note `train_model` is a method of class `ModelPipeline`. If you are using COLAB, mouse-over the `MP.train_model()` to view the source code"
   ]
  },
  {
   "cell_type": "code",
   "execution_count": null,
   "metadata": {
    "colab": {
     "base_uri": "https://localhost:8080/",
     "height": 34
    },
    "id": "lq9CEnyPY1-f",
    "outputId": "bab34a95-11c2-4e5f-8b57-0ebee4e1965b"
   },
   "outputs": [],
   "source": [
    "import atomsci.ddm.pipeline.model_pipeline as mp\n",
    "mp.ampl_version"
   ]
  },
  {
   "cell_type": "code",
   "execution_count": null,
   "metadata": {
    "colab": {
     "base_uri": "https://localhost:8080/"
    },
    "id": "LGnlXLCyXff9",
    "outputId": "8e70dd10-9ddd-4128-c803-a34a43152be3"
   },
   "outputs": [],
   "source": [
    "MP.train_model()"
   ]
  },
  {
   "cell_type": "code",
   "execution_count": null,
   "metadata": {
    "colab": {
     "base_uri": "https://localhost:8080/",
     "height": 1000
    },
    "id": "CMb8j-6NVk3T",
    "outputId": "37708ead-60f1-4922-c024-26ada9ca9a3c"
   },
   "outputs": [],
   "source": [
    "\n",
    "\n",
    "pp.plot_pred_vs_actual(MP)"
   ]
  },
  {
   "cell_type": "code",
   "execution_count": null,
   "metadata": {},
   "outputs": [],
   "source": [
    "pparams"
   ]
  },
  {
   "cell_type": "code",
   "execution_count": null,
   "metadata": {},
   "outputs": [],
   "source": [
    "!date"
   ]
  },
  {
   "cell_type": "code",
   "execution_count": null,
   "metadata": {},
   "outputs": [],
   "source": []
  }
 ],
 "metadata": {
  "accelerator": "GPU",
  "colab": {
   "collapsed_sections": [],
   "include_colab_link": true,
   "machine_shape": "hm",
   "name": "10_Delaney_Solubility_Prediction.ipynb",
   "provenance": []
  },
  "kernelspec": {
   "display_name": "atomsci",
   "language": "python",
   "name": "atomsci"
  },
  "language_info": {
   "codemirror_mode": {
    "name": "ipython",
    "version": 3
   },
   "file_extension": ".py",
   "mimetype": "text/x-python",
   "name": "python",
   "nbconvert_exporter": "python",
   "pygments_lexer": "ipython3",
   "version": "3.7.10"
  }
 },
 "nbformat": 4,
 "nbformat_minor": 4
}
